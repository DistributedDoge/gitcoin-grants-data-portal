{
 "cells": [
  {
   "cell_type": "raw",
   "metadata": {},
   "source": [
    "---\n",
    "title: \"Getting Chain Data\"\n",
    "format: html\n",
    "---"
   ]
  },
  {
   "cell_type": "code",
   "execution_count": 6,
   "metadata": {},
   "outputs": [],
   "source": [
    "import duckdb\n",
    "\n",
    "duckdb.sql(\n",
    "    \"\"\"\n",
    "    set s3_region = \"auto\";\n",
    "    set s3_url_style = \"path\";\n",
    "    set s3_endpoint = 'ed5d915e0259fcddb2ab1ce5592040c3.r2.cloudflarestorage.com';\n",
    "    set s3_access_key_id = '43c31ff797ec2387177cabab6d18f15a';\n",
    "    set s3_secret_access_key = 'afb354f05026f2512557922974e9dd2fdb21e5c2f5cbf929b35f0645fb284cf7';\n",
    "\n",
    "    create table ethereum_raw_blocks as (\n",
    "        select\n",
    "            *\n",
    "        from read_parquet(\"s3://indexed-xyz/ethereum/raw/blocks/v1.2.0/partition_key=9d/dt=2023/*.parquet\")\n",
    "    );\n",
    "\"\"\"\n",
    ")"
   ]
  }
 ],
 "metadata": {
  "kernelspec": {
   "display_name": "Python 3",
   "language": "python",
   "name": "python3"
  },
  "language_info": {
   "codemirror_mode": {
    "name": "ipython",
    "version": 3
   },
   "file_extension": ".py",
   "mimetype": "text/x-python",
   "name": "python",
   "nbconvert_exporter": "python",
   "pygments_lexer": "ipython3",
   "version": "3.11.6"
  }
 },
 "nbformat": 4,
 "nbformat_minor": 2
}
