{
 "cells": [
  {
   "cell_type": "raw",
   "metadata": {},
   "source": [
    "---\n",
    "title: \"Catalog\"\n",
    "format:\n",
    "    html:\n",
    "        toc: true\n",
    "        toc-depth: 1\n",
    "        page-layout: full\n",
    "        anchor-sections: true\n",
    "execute:\n",
    "  enabled: true\n",
    "  echo: false\n",
    "---"
   ]
  },
  {
   "cell_type": "markdown",
   "metadata": {},
   "source": [
    "<a \n",
    "    target=\"_blank\" \n",
    "    href=\"https://colab.research.google.com/github/davidgasquez/gitcoin-grants-data-portal/blob/main/notebooks/sandbox.ipynb\"> \n",
    "    <img src=\"https://colab.research.google.com/assets/colab-badge.svg\" alt=\"Open In Colab\"/>\n",
    "</a>"
   ]
  },
  {
   "cell_type": "markdown",
   "metadata": {},
   "source": [
    "Following parquet files can be accessed from `ipfs`, see the [**homepage**](/) for instructions.\n",
    "\n",
    "Raw files are direct result of API fetch, while processed files have been cleaned and normalized. \n",
    "\n",
    "Current convention for processed files is to store `address` in lowercase format. Columns are renamed to `snake_case`. "
   ]
  },
  {
   "cell_type": "markdown",
   "metadata": {},
   "source": [
    "#### File listing"
   ]
  },
  {
   "cell_type": "code",
   "execution_count": 1,
   "metadata": {},
   "outputs": [],
   "source": [
    "from IPython.display import Markdown, display\n",
    "\n",
    "\n",
    "def md(content):\n",
    "    display(Markdown(content))"
   ]
  },
  {
   "cell_type": "code",
   "execution_count": 2,
   "metadata": {
    "tags": [
     "hide_input"
    ]
   },
   "outputs": [
    {
     "data": {
      "text/markdown": [
       "**Processed Files:**   "
      ],
      "text/plain": [
       "<IPython.core.display.Markdown object>"
      ]
     },
     "metadata": {},
     "output_type": "display_data"
    },
    {
     "data": {
      "text/markdown": [
       "[application_answers.parquet](#application_answers.parquet)  "
      ],
      "text/plain": [
       "<IPython.core.display.Markdown object>"
      ]
     },
     "metadata": {},
     "output_type": "display_data"
    },
    {
     "data": {
      "text/markdown": [
       "[chain_metadata.parquet](#chain_metadata.parquet)  "
      ],
      "text/plain": [
       "<IPython.core.display.Markdown object>"
      ]
     },
     "metadata": {},
     "output_type": "display_data"
    },
    {
     "data": {
      "text/markdown": [
       "[passport_scores.parquet](#passport_scores.parquet)  "
      ],
      "text/plain": [
       "<IPython.core.display.Markdown object>"
      ]
     },
     "metadata": {},
     "output_type": "display_data"
    },
    {
     "data": {
      "text/markdown": [
       "[projects.parquet](#projects.parquet)  "
      ],
      "text/plain": [
       "<IPython.core.display.Markdown object>"
      ]
     },
     "metadata": {},
     "output_type": "display_data"
    },
    {
     "data": {
      "text/markdown": [
       "[round_applications.parquet](#round_applications.parquet)  "
      ],
      "text/plain": [
       "<IPython.core.display.Markdown object>"
      ]
     },
     "metadata": {},
     "output_type": "display_data"
    },
    {
     "data": {
      "text/markdown": [
       "[round_votes.parquet](#round_votes.parquet)  "
      ],
      "text/plain": [
       "<IPython.core.display.Markdown object>"
      ]
     },
     "metadata": {},
     "output_type": "display_data"
    },
    {
     "data": {
      "text/markdown": [
       "[rounds.parquet](#rounds.parquet)  "
      ],
      "text/plain": [
       "<IPython.core.display.Markdown object>"
      ]
     },
     "metadata": {},
     "output_type": "display_data"
    },
    {
     "name": "stdout",
     "output_type": "stream",
     "text": [
      "\n"
     ]
    },
    {
     "data": {
      "text/markdown": [
       "**Raw Files:**   "
      ],
      "text/plain": [
       "<IPython.core.display.Markdown object>"
      ]
     },
     "metadata": {},
     "output_type": "display_data"
    },
    {
     "data": {
      "text/markdown": [
       "[public_raw_chain_metadata.parquet](#public_raw_chain_metadata.parquet)  "
      ],
      "text/plain": [
       "<IPython.core.display.Markdown object>"
      ]
     },
     "metadata": {},
     "output_type": "display_data"
    },
    {
     "data": {
      "text/markdown": [
       "[public_raw_passport_scores.parquet](#public_raw_passport_scores.parquet)  "
      ],
      "text/plain": [
       "<IPython.core.display.Markdown object>"
      ]
     },
     "metadata": {},
     "output_type": "display_data"
    },
    {
     "data": {
      "text/markdown": [
       "[public_raw_prices.parquet](#public_raw_prices.parquet)  "
      ],
      "text/plain": [
       "<IPython.core.display.Markdown object>"
      ]
     },
     "metadata": {},
     "output_type": "display_data"
    },
    {
     "data": {
      "text/markdown": [
       "[public_raw_projects.parquet](#public_raw_projects.parquet)  "
      ],
      "text/plain": [
       "<IPython.core.display.Markdown object>"
      ]
     },
     "metadata": {},
     "output_type": "display_data"
    },
    {
     "data": {
      "text/markdown": [
       "[public_raw_round_applications.parquet](#public_raw_round_applications.parquet)  "
      ],
      "text/plain": [
       "<IPython.core.display.Markdown object>"
      ]
     },
     "metadata": {},
     "output_type": "display_data"
    },
    {
     "data": {
      "text/markdown": [
       "[public_raw_round_contributors.parquet](#public_raw_round_contributors.parquet)  "
      ],
      "text/plain": [
       "<IPython.core.display.Markdown object>"
      ]
     },
     "metadata": {},
     "output_type": "display_data"
    },
    {
     "data": {
      "text/markdown": [
       "[public_raw_round_votes.parquet](#public_raw_round_votes.parquet)  "
      ],
      "text/plain": [
       "<IPython.core.display.Markdown object>"
      ]
     },
     "metadata": {},
     "output_type": "display_data"
    },
    {
     "data": {
      "text/markdown": [
       "[public_raw_rounds.parquet](#public_raw_rounds.parquet)  "
      ],
      "text/plain": [
       "<IPython.core.display.Markdown object>"
      ]
     },
     "metadata": {},
     "output_type": "display_data"
    }
   ],
   "source": [
    "# | output: asis\n",
    "\n",
    "import os\n",
    "\n",
    "# Make sure to `make export-db`\n",
    "EXPORT_PATH = os.path.join(\"..\", \"data/tables\")\n",
    "EXTENSIONS = \".parquet\"\n",
    "\n",
    "raw_files = []\n",
    "processed_files = []\n",
    "\n",
    "for file in os.listdir(EXPORT_PATH):\n",
    "    if file.endswith(EXTENSIONS):\n",
    "        if file.startswith(\"public_raw\"):\n",
    "            raw_files.append(file)\n",
    "        else:\n",
    "            processed_files.append(file)\n",
    "\n",
    "\n",
    "def print_section(section_header: str, file_list):\n",
    "    md(f\"**{section_header}**   \")\n",
    "    for file in file_list:\n",
    "        md(f\"[{file}](#{file})  \")\n",
    "\n",
    "\n",
    "raw_files = sorted(raw_files)\n",
    "processed_files = sorted(processed_files)\n",
    "\n",
    "print_section(\"Processed Files:\", processed_files)\n",
    "print()\n",
    "print_section(\"Raw Files:\", raw_files)"
   ]
  },
  {
   "cell_type": "markdown",
   "metadata": {},
   "source": [
    "For each of the files you can find sample rows, and schema below."
   ]
  },
  {
   "cell_type": "markdown",
   "metadata": {},
   "source": [
    "## Processed Files"
   ]
  },
  {
   "cell_type": "code",
   "execution_count": 3,
   "metadata": {},
   "outputs": [
    {
     "data": {
      "text/markdown": [
       "## [application_answers.parquet](#file-listing)"
      ],
      "text/plain": [
       "<IPython.core.display.Markdown object>"
      ]
     },
     "metadata": {},
     "output_type": "display_data"
    },
    {
     "data": {
      "text/markdown": [
       "question_id: string<br>project_id: string<br>application_id: int64<br>chain_id: string<br>round_id: string<br>question: string<br>question_type: string<br>answer: string"
      ],
      "text/plain": [
       "<IPython.core.display.Markdown object>"
      ]
     },
     "metadata": {},
     "output_type": "display_data"
    },
    {
     "data": {
      "text/html": [
       "<div>\n",
       "<style scoped>\n",
       "    .dataframe tbody tr th:only-of-type {\n",
       "        vertical-align: middle;\n",
       "    }\n",
       "\n",
       "    .dataframe tbody tr th {\n",
       "        vertical-align: top;\n",
       "    }\n",
       "\n",
       "    .dataframe thead th {\n",
       "        text-align: right;\n",
       "    }\n",
       "</style>\n",
       "<table border=\"1\" class=\"dataframe\">\n",
       "  <thead>\n",
       "    <tr style=\"text-align: right;\">\n",
       "      <th></th>\n",
       "      <th>question_id</th>\n",
       "      <th>project_id</th>\n",
       "      <th>application_id</th>\n",
       "      <th>chain_id</th>\n",
       "      <th>round_id</th>\n",
       "      <th>question</th>\n",
       "      <th>question_type</th>\n",
       "      <th>answer</th>\n",
       "    </tr>\n",
       "  </thead>\n",
       "  <tbody>\n",
       "    <tr>\n",
       "      <th>0</th>\n",
       "      <td>1</td>\n",
       "      <td>0x27ecde7fbbd667c76299df57b340b18b025ceb0d5dd0...</td>\n",
       "      <td>0</td>\n",
       "      <td>280</td>\n",
       "      <td>0xfff13d967d27b564838d413d98a53e0c013fa7d9</td>\n",
       "      <td>Funding Sources</td>\n",
       "      <td>short-answer</td>\n",
       "      <td>ok</td>\n",
       "    </tr>\n",
       "    <tr>\n",
       "      <th>1</th>\n",
       "      <td>2</td>\n",
       "      <td>0x27ecde7fbbd667c76299df57b340b18b025ceb0d5dd0...</td>\n",
       "      <td>0</td>\n",
       "      <td>280</td>\n",
       "      <td>0xfff13d967d27b564838d413d98a53e0c013fa7d9</td>\n",
       "      <td>Team Size</td>\n",
       "      <td>number</td>\n",
       "      <td>123</td>\n",
       "    </tr>\n",
       "    <tr>\n",
       "      <th>2</th>\n",
       "      <td>1</td>\n",
       "      <td>0xae65357bd3576496fffa2f659acdd5681115d7799408...</td>\n",
       "      <td>0</td>\n",
       "      <td>280</td>\n",
       "      <td>0x2f9e1523fe85a26602bf6518f6dfb70d44721dc1</td>\n",
       "      <td>Funding Sources</td>\n",
       "      <td>short-answer</td>\n",
       "      <td>grants</td>\n",
       "    </tr>\n",
       "    <tr>\n",
       "      <th>3</th>\n",
       "      <td>2</td>\n",
       "      <td>0xae65357bd3576496fffa2f659acdd5681115d7799408...</td>\n",
       "      <td>0</td>\n",
       "      <td>280</td>\n",
       "      <td>0x2f9e1523fe85a26602bf6518f6dfb70d44721dc1</td>\n",
       "      <td>Team Size</td>\n",
       "      <td>number</td>\n",
       "      <td>2</td>\n",
       "    </tr>\n",
       "  </tbody>\n",
       "</table>\n",
       "</div>"
      ],
      "text/plain": [
       "  question_id                                         project_id  \\\n",
       "0           1  0x27ecde7fbbd667c76299df57b340b18b025ceb0d5dd0...   \n",
       "1           2  0x27ecde7fbbd667c76299df57b340b18b025ceb0d5dd0...   \n",
       "2           1  0xae65357bd3576496fffa2f659acdd5681115d7799408...   \n",
       "3           2  0xae65357bd3576496fffa2f659acdd5681115d7799408...   \n",
       "\n",
       "   application_id chain_id                                    round_id  \\\n",
       "0               0      280  0xfff13d967d27b564838d413d98a53e0c013fa7d9   \n",
       "1               0      280  0xfff13d967d27b564838d413d98a53e0c013fa7d9   \n",
       "2               0      280  0x2f9e1523fe85a26602bf6518f6dfb70d44721dc1   \n",
       "3               0      280  0x2f9e1523fe85a26602bf6518f6dfb70d44721dc1   \n",
       "\n",
       "          question question_type  answer  \n",
       "0  Funding Sources  short-answer      ok  \n",
       "1        Team Size        number     123  \n",
       "2  Funding Sources  short-answer  grants  \n",
       "3        Team Size        number       2  "
      ]
     },
     "metadata": {},
     "output_type": "display_data"
    },
    {
     "data": {
      "text/markdown": [
       "## [chain_metadata.parquet](#file-listing)"
      ],
      "text/plain": [
       "<IPython.core.display.Markdown object>"
      ]
     },
     "metadata": {},
     "output_type": "display_data"
    },
    {
     "data": {
      "text/markdown": [
       "name: string<br>short_name: string<br>info_url: string<br>chain_id: string<br>network_id: int64<br>native_currency: struct<name: string, symbol: string, decimals: int32><br>  child 0, name: string<br>  child 1, symbol: string<br>  child 2, decimals: int32<br>ens: struct<registry: string><br>  child 0, registry: string<br>explorers: list<element: map<string, string ('element')>><br>  child 0, element: map<string, string ('element')><br>      child 0, element: struct<key: string not null, value: string> not null<br>          child 0, key: string not null<br>          child 1, value: string<br>rpc: list<element: string><br>  child 0, element: string<br>parent: struct<type: string, chain: string, bridges: list<element: struct<url: string>>><br>  child 0, type: string<br>  child 1, chain: string<br>  child 2, bridges: list<element: struct<url: string>><br>      child 0, element: struct<url: string><br>          child 0, url: string"
      ],
      "text/plain": [
       "<IPython.core.display.Markdown object>"
      ]
     },
     "metadata": {},
     "output_type": "display_data"
    },
    {
     "data": {
      "text/html": [
       "<div>\n",
       "<style scoped>\n",
       "    .dataframe tbody tr th:only-of-type {\n",
       "        vertical-align: middle;\n",
       "    }\n",
       "\n",
       "    .dataframe tbody tr th {\n",
       "        vertical-align: top;\n",
       "    }\n",
       "\n",
       "    .dataframe thead th {\n",
       "        text-align: right;\n",
       "    }\n",
       "</style>\n",
       "<table border=\"1\" class=\"dataframe\">\n",
       "  <thead>\n",
       "    <tr style=\"text-align: right;\">\n",
       "      <th></th>\n",
       "      <th>name</th>\n",
       "      <th>short_name</th>\n",
       "      <th>info_url</th>\n",
       "      <th>chain_id</th>\n",
       "      <th>network_id</th>\n",
       "      <th>native_currency</th>\n",
       "      <th>ens</th>\n",
       "      <th>explorers</th>\n",
       "      <th>rpc</th>\n",
       "      <th>parent</th>\n",
       "    </tr>\n",
       "  </thead>\n",
       "  <tbody>\n",
       "    <tr>\n",
       "      <th>0</th>\n",
       "      <td>Ethereum Mainnet</td>\n",
       "      <td>eth</td>\n",
       "      <td>https://ethereum.org</td>\n",
       "      <td>1</td>\n",
       "      <td>1</td>\n",
       "      <td>{'name': 'Ether', 'symbol': 'ETH', 'decimals':...</td>\n",
       "      <td>{'registry': '0x00000000000C2E074eC69A0dFb2997...</td>\n",
       "      <td>[[(name, etherscan), (url, https://etherscan.i...</td>\n",
       "      <td>[https://mainnet.infura.io/v3/${INFURA_API_KEY...</td>\n",
       "      <td>None</td>\n",
       "    </tr>\n",
       "    <tr>\n",
       "      <th>1</th>\n",
       "      <td>OP Mainnet</td>\n",
       "      <td>oeth</td>\n",
       "      <td>https://optimism.io</td>\n",
       "      <td>10</td>\n",
       "      <td>10</td>\n",
       "      <td>{'name': 'Ether', 'symbol': 'ETH', 'decimals':...</td>\n",
       "      <td>None</td>\n",
       "      <td>[[(name, etherscan), (url, https://optimistic....</td>\n",
       "      <td>[https://mainnet.optimism.io, https://optimism...</td>\n",
       "      <td>None</td>\n",
       "    </tr>\n",
       "    <tr>\n",
       "      <th>2</th>\n",
       "      <td>Polygon Mainnet</td>\n",
       "      <td>matic</td>\n",
       "      <td>https://polygon.technology/</td>\n",
       "      <td>137</td>\n",
       "      <td>137</td>\n",
       "      <td>{'name': 'MATIC', 'symbol': 'MATIC', 'decimals...</td>\n",
       "      <td>None</td>\n",
       "      <td>[[(name, polygonscan), (url, https://polygonsc...</td>\n",
       "      <td>[https://polygon-rpc.com/, https://rpc-mainnet...</td>\n",
       "      <td>None</td>\n",
       "    </tr>\n",
       "    <tr>\n",
       "      <th>3</th>\n",
       "      <td>Fantom Opera</td>\n",
       "      <td>ftm</td>\n",
       "      <td>https://fantom.foundation</td>\n",
       "      <td>250</td>\n",
       "      <td>250</td>\n",
       "      <td>{'name': 'Fantom', 'symbol': 'FTM', 'decimals'...</td>\n",
       "      <td>None</td>\n",
       "      <td>[[(name, ftmscan), (url, https://ftmscan.com),...</td>\n",
       "      <td>[https://rpc.ftm.tools, https://fantom.publicn...</td>\n",
       "      <td>None</td>\n",
       "    </tr>\n",
       "  </tbody>\n",
       "</table>\n",
       "</div>"
      ],
      "text/plain": [
       "               name short_name                     info_url chain_id  \\\n",
       "0  Ethereum Mainnet        eth         https://ethereum.org        1   \n",
       "1        OP Mainnet       oeth          https://optimism.io       10   \n",
       "2   Polygon Mainnet      matic  https://polygon.technology/      137   \n",
       "3      Fantom Opera        ftm    https://fantom.foundation      250   \n",
       "\n",
       "   network_id                                    native_currency  \\\n",
       "0           1  {'name': 'Ether', 'symbol': 'ETH', 'decimals':...   \n",
       "1          10  {'name': 'Ether', 'symbol': 'ETH', 'decimals':...   \n",
       "2         137  {'name': 'MATIC', 'symbol': 'MATIC', 'decimals...   \n",
       "3         250  {'name': 'Fantom', 'symbol': 'FTM', 'decimals'...   \n",
       "\n",
       "                                                 ens  \\\n",
       "0  {'registry': '0x00000000000C2E074eC69A0dFb2997...   \n",
       "1                                               None   \n",
       "2                                               None   \n",
       "3                                               None   \n",
       "\n",
       "                                           explorers  \\\n",
       "0  [[(name, etherscan), (url, https://etherscan.i...   \n",
       "1  [[(name, etherscan), (url, https://optimistic....   \n",
       "2  [[(name, polygonscan), (url, https://polygonsc...   \n",
       "3  [[(name, ftmscan), (url, https://ftmscan.com),...   \n",
       "\n",
       "                                                 rpc parent  \n",
       "0  [https://mainnet.infura.io/v3/${INFURA_API_KEY...   None  \n",
       "1  [https://mainnet.optimism.io, https://optimism...   None  \n",
       "2  [https://polygon-rpc.com/, https://rpc-mainnet...   None  \n",
       "3  [https://rpc.ftm.tools, https://fantom.publicn...   None  "
      ]
     },
     "metadata": {},
     "output_type": "display_data"
    },
    {
     "data": {
      "text/markdown": [
       "## [passport_scores.parquet](#file-listing)"
      ],
      "text/plain": [
       "<IPython.core.display.Markdown object>"
      ]
     },
     "metadata": {},
     "output_type": "display_data"
    },
    {
     "data": {
      "text/markdown": [
       "address: string<br>score: int64<br>status: string<br>last_score_timestamp: timestamp[us, tz=UTC]<br>evidence_type: string<br>evidence_success: string<br>evidence_raw_score: string<br>evidence_threshold: string"
      ],
      "text/plain": [
       "<IPython.core.display.Markdown object>"
      ]
     },
     "metadata": {},
     "output_type": "display_data"
    },
    {
     "data": {
      "text/html": [
       "<div>\n",
       "<style scoped>\n",
       "    .dataframe tbody tr th:only-of-type {\n",
       "        vertical-align: middle;\n",
       "    }\n",
       "\n",
       "    .dataframe tbody tr th {\n",
       "        vertical-align: top;\n",
       "    }\n",
       "\n",
       "    .dataframe thead th {\n",
       "        text-align: right;\n",
       "    }\n",
       "</style>\n",
       "<table border=\"1\" class=\"dataframe\">\n",
       "  <thead>\n",
       "    <tr style=\"text-align: right;\">\n",
       "      <th></th>\n",
       "      <th>address</th>\n",
       "      <th>score</th>\n",
       "      <th>status</th>\n",
       "      <th>last_score_timestamp</th>\n",
       "      <th>evidence_type</th>\n",
       "      <th>evidence_success</th>\n",
       "      <th>evidence_raw_score</th>\n",
       "      <th>evidence_threshold</th>\n",
       "    </tr>\n",
       "  </thead>\n",
       "  <tbody>\n",
       "    <tr>\n",
       "      <th>0</th>\n",
       "      <td>0x0000000000000000000000000000000000000000</td>\n",
       "      <td>0</td>\n",
       "      <td>DONE</td>\n",
       "      <td>2023-12-29 08:07:07.327000+00:00</td>\n",
       "      <td>ThresholdScoreCheck</td>\n",
       "      <td>false</td>\n",
       "      <td>0</td>\n",
       "      <td>20.00000</td>\n",
       "    </tr>\n",
       "    <tr>\n",
       "      <th>1</th>\n",
       "      <td>0x0000000000098341a924bd53454654a0dbbc4e43</td>\n",
       "      <td>0</td>\n",
       "      <td>DONE</td>\n",
       "      <td>2023-12-29 08:20:47.033000+00:00</td>\n",
       "      <td>ThresholdScoreCheck</td>\n",
       "      <td>false</td>\n",
       "      <td>0</td>\n",
       "      <td>20.00000</td>\n",
       "    </tr>\n",
       "    <tr>\n",
       "      <th>2</th>\n",
       "      <td>0x0000000000ce6d8c1fba76f26d6cc5db71432710</td>\n",
       "      <td>0</td>\n",
       "      <td>DONE</td>\n",
       "      <td>2023-12-29 10:58:03.829000+00:00</td>\n",
       "      <td>ThresholdScoreCheck</td>\n",
       "      <td>false</td>\n",
       "      <td>16.881048</td>\n",
       "      <td>20.00000</td>\n",
       "    </tr>\n",
       "    <tr>\n",
       "      <th>3</th>\n",
       "      <td>0x00000000037a08ce8c4917a5c58f40c85367df0c</td>\n",
       "      <td>1</td>\n",
       "      <td>DONE</td>\n",
       "      <td>2023-12-29 07:29:03.207000+00:00</td>\n",
       "      <td>ThresholdScoreCheck</td>\n",
       "      <td>true</td>\n",
       "      <td>25.333170</td>\n",
       "      <td>20.00000</td>\n",
       "    </tr>\n",
       "  </tbody>\n",
       "</table>\n",
       "</div>"
      ],
      "text/plain": [
       "                                      address  score status  \\\n",
       "0  0x0000000000000000000000000000000000000000      0   DONE   \n",
       "1  0x0000000000098341a924bd53454654a0dbbc4e43      0   DONE   \n",
       "2  0x0000000000ce6d8c1fba76f26d6cc5db71432710      0   DONE   \n",
       "3  0x00000000037a08ce8c4917a5c58f40c85367df0c      1   DONE   \n",
       "\n",
       "              last_score_timestamp        evidence_type evidence_success  \\\n",
       "0 2023-12-29 08:07:07.327000+00:00  ThresholdScoreCheck            false   \n",
       "1 2023-12-29 08:20:47.033000+00:00  ThresholdScoreCheck            false   \n",
       "2 2023-12-29 10:58:03.829000+00:00  ThresholdScoreCheck            false   \n",
       "3 2023-12-29 07:29:03.207000+00:00  ThresholdScoreCheck             true   \n",
       "\n",
       "  evidence_raw_score evidence_threshold  \n",
       "0                  0           20.00000  \n",
       "1                  0           20.00000  \n",
       "2          16.881048           20.00000  \n",
       "3          25.333170           20.00000  "
      ]
     },
     "metadata": {},
     "output_type": "display_data"
    },
    {
     "data": {
      "text/markdown": [
       "## [projects.parquet](#file-listing)"
      ],
      "text/plain": [
       "<IPython.core.display.Markdown object>"
      ]
     },
     "metadata": {},
     "output_type": "display_data"
    },
    {
     "data": {
      "text/markdown": [
       "project_id: string<br>project_number: int64<br>meta_ptr: string<br>metadata: string<br>owners: list<element: string><br>  child 0, element: string<br>created_at_block: int64<br>chain_id: string<br>title: string<br>description: string<br>website: string<br>project_twitter: string<br>logo_image: string<br>banner_image: string<br>created_at: decimal128(18, 3)"
      ],
      "text/plain": [
       "<IPython.core.display.Markdown object>"
      ]
     },
     "metadata": {},
     "output_type": "display_data"
    },
    {
     "data": {
      "text/html": [
       "<div>\n",
       "<style scoped>\n",
       "    .dataframe tbody tr th:only-of-type {\n",
       "        vertical-align: middle;\n",
       "    }\n",
       "\n",
       "    .dataframe tbody tr th {\n",
       "        vertical-align: top;\n",
       "    }\n",
       "\n",
       "    .dataframe thead th {\n",
       "        text-align: right;\n",
       "    }\n",
       "</style>\n",
       "<table border=\"1\" class=\"dataframe\">\n",
       "  <thead>\n",
       "    <tr style=\"text-align: right;\">\n",
       "      <th></th>\n",
       "      <th>project_id</th>\n",
       "      <th>project_number</th>\n",
       "      <th>meta_ptr</th>\n",
       "      <th>metadata</th>\n",
       "      <th>owners</th>\n",
       "      <th>created_at_block</th>\n",
       "      <th>chain_id</th>\n",
       "      <th>title</th>\n",
       "      <th>description</th>\n",
       "      <th>website</th>\n",
       "      <th>project_twitter</th>\n",
       "      <th>logo_image</th>\n",
       "      <th>banner_image</th>\n",
       "      <th>created_at</th>\n",
       "    </tr>\n",
       "  </thead>\n",
       "  <tbody>\n",
       "    <tr>\n",
       "      <th>0</th>\n",
       "      <td>0xfe796d86ea81cc0343025b3860876aa6516f1afe8b94...</td>\n",
       "      <td>0</td>\n",
       "      <td>bafkreicwhtude2cmyjecx3vfpnayobshjcckziuvfobqw...</td>\n",
       "      <td>{\"title\": \"FTM Test Project\", \"description\": \"...</td>\n",
       "      <td>[0x3f15B8c6F9939879Cb030D6dd935348E57109637]</td>\n",
       "      <td>50580559</td>\n",
       "      <td>250</td>\n",
       "      <td>FTM Test Project</td>\n",
       "      <td>Just a description here 🫣 don't mind me. Now I...</td>\n",
       "      <td>https://ftmtest.com</td>\n",
       "      <td>codenamejason</td>\n",
       "      <td>bafybeicg37elcjkvsbo5xzcv7tuqgg2buyc2aco2w4oxi...</td>\n",
       "      <td>bafybeidkh33rniypibdqtpecjferqkosssrjgyqvhkoap...</td>\n",
       "      <td>None</td>\n",
       "    </tr>\n",
       "    <tr>\n",
       "      <th>1</th>\n",
       "      <td>0x9b5985c3fb65dca9733f9d6418ab107b2d2f2108ab59...</td>\n",
       "      <td>1</td>\n",
       "      <td>bafkreiepbxfp5uvpn3ff74cn42wodhrqbl3himw5oqlpp...</td>\n",
       "      <td>{\"title\": \"test ftm project\", \"description\": \"...</td>\n",
       "      <td>[0x63b265D170f35d6bb724A6c00b4DcC822EA97867]</td>\n",
       "      <td>50582583</td>\n",
       "      <td>250</td>\n",
       "      <td>test ftm project</td>\n",
       "      <td>test desc</td>\n",
       "      <td>https://gitcoin.co</td>\n",
       "      <td>willsputra</td>\n",
       "      <td>None</td>\n",
       "      <td>None</td>\n",
       "      <td>None</td>\n",
       "    </tr>\n",
       "    <tr>\n",
       "      <th>2</th>\n",
       "      <td>0x8104847eab21b90e403b02a24c5b8050174873cb2356...</td>\n",
       "      <td>2</td>\n",
       "      <td>bafkreifvvexgja3bukdgiyfzgzzekla7wfimgq35bmbo2...</td>\n",
       "      <td>{\"title\": \"TalentDAO\", \"description\": \"Talent ...</td>\n",
       "      <td>[0x3f15B8c6F9939879Cb030D6dd935348E57109637]</td>\n",
       "      <td>50583305</td>\n",
       "      <td>250</td>\n",
       "      <td>TalentDAO</td>\n",
       "      <td>Talent DAO project description 📚 We are buidli...</td>\n",
       "      <td>https://talentdao.io</td>\n",
       "      <td>talentdao_</td>\n",
       "      <td>bafkreigvxakhj32p4leqboqhznbu7jmdw6r76cwwvzstu...</td>\n",
       "      <td>bafkreiebp3jbrqtvtvetgojzhlsezdd665dieafneamw5...</td>\n",
       "      <td>None</td>\n",
       "    </tr>\n",
       "    <tr>\n",
       "      <th>3</th>\n",
       "      <td>0x0d5c967ccdc3ef600b1689d13a6661aec9c8332b2a7b...</td>\n",
       "      <td>3</td>\n",
       "      <td>bafkreie4cs53r6f327ai57ecoxw6omew3wbk4r7rgjwwj...</td>\n",
       "      <td>{\"title\": \"Nate's project\", \"description\": \"so...</td>\n",
       "      <td>[0x4873178BeA2DCd7022f0eF6c70048b0e05Bf9017]</td>\n",
       "      <td>50638712</td>\n",
       "      <td>250</td>\n",
       "      <td>Nate's project</td>\n",
       "      <td>solarpunk futurism</td>\n",
       "      <td>https://heynate.me</td>\n",
       "      <td>heynate_g</td>\n",
       "      <td>bafybeiffwomqqgwcsnyconcucp7q4bv5cp2lslmjlqiva...</td>\n",
       "      <td>None</td>\n",
       "      <td>None</td>\n",
       "    </tr>\n",
       "  </tbody>\n",
       "</table>\n",
       "</div>"
      ],
      "text/plain": [
       "                                          project_id  project_number  \\\n",
       "0  0xfe796d86ea81cc0343025b3860876aa6516f1afe8b94...               0   \n",
       "1  0x9b5985c3fb65dca9733f9d6418ab107b2d2f2108ab59...               1   \n",
       "2  0x8104847eab21b90e403b02a24c5b8050174873cb2356...               2   \n",
       "3  0x0d5c967ccdc3ef600b1689d13a6661aec9c8332b2a7b...               3   \n",
       "\n",
       "                                            meta_ptr  \\\n",
       "0  bafkreicwhtude2cmyjecx3vfpnayobshjcckziuvfobqw...   \n",
       "1  bafkreiepbxfp5uvpn3ff74cn42wodhrqbl3himw5oqlpp...   \n",
       "2  bafkreifvvexgja3bukdgiyfzgzzekla7wfimgq35bmbo2...   \n",
       "3  bafkreie4cs53r6f327ai57ecoxw6omew3wbk4r7rgjwwj...   \n",
       "\n",
       "                                            metadata  \\\n",
       "0  {\"title\": \"FTM Test Project\", \"description\": \"...   \n",
       "1  {\"title\": \"test ftm project\", \"description\": \"...   \n",
       "2  {\"title\": \"TalentDAO\", \"description\": \"Talent ...   \n",
       "3  {\"title\": \"Nate's project\", \"description\": \"so...   \n",
       "\n",
       "                                         owners  created_at_block chain_id  \\\n",
       "0  [0x3f15B8c6F9939879Cb030D6dd935348E57109637]          50580559      250   \n",
       "1  [0x63b265D170f35d6bb724A6c00b4DcC822EA97867]          50582583      250   \n",
       "2  [0x3f15B8c6F9939879Cb030D6dd935348E57109637]          50583305      250   \n",
       "3  [0x4873178BeA2DCd7022f0eF6c70048b0e05Bf9017]          50638712      250   \n",
       "\n",
       "              title                                        description  \\\n",
       "0  FTM Test Project  Just a description here 🫣 don't mind me. Now I...   \n",
       "1  test ftm project                                          test desc   \n",
       "2         TalentDAO  Talent DAO project description 📚 We are buidli...   \n",
       "3    Nate's project                                 solarpunk futurism   \n",
       "\n",
       "                website project_twitter  \\\n",
       "0   https://ftmtest.com   codenamejason   \n",
       "1    https://gitcoin.co      willsputra   \n",
       "2  https://talentdao.io      talentdao_   \n",
       "3    https://heynate.me       heynate_g   \n",
       "\n",
       "                                          logo_image  \\\n",
       "0  bafybeicg37elcjkvsbo5xzcv7tuqgg2buyc2aco2w4oxi...   \n",
       "1                                               None   \n",
       "2  bafkreigvxakhj32p4leqboqhznbu7jmdw6r76cwwvzstu...   \n",
       "3  bafybeiffwomqqgwcsnyconcucp7q4bv5cp2lslmjlqiva...   \n",
       "\n",
       "                                        banner_image created_at  \n",
       "0  bafybeidkh33rniypibdqtpecjferqkosssrjgyqvhkoap...       None  \n",
       "1                                               None       None  \n",
       "2  bafkreiebp3jbrqtvtvetgojzhlsezdd665dieafneamw5...       None  \n",
       "3                                               None       None  "
      ]
     },
     "metadata": {},
     "output_type": "display_data"
    },
    {
     "data": {
      "text/markdown": [
       "## [round_applications.parquet](#file-listing)"
      ],
      "text/plain": [
       "<IPython.core.display.Markdown object>"
      ]
     },
     "metadata": {},
     "output_type": "display_data"
    },
    {
     "data": {
      "text/markdown": [
       "chain_id: string<br>round_id: string<br>id: int64<br>project_id: string<br>status: string<br>amount_usd: double<br>votes: int64<br>unique_contributors: int64<br>metadata: string<br>created_at_block: int64<br>status_updated_at_block: int64<br>status_snapshots: list<element: struct<status: string, statusUpdatedAtBlock: int32>><br>  child 0, element: struct<status: string, statusUpdatedAtBlock: int32><br>      child 0, status: string<br>      child 1, statusUpdatedAtBlock: int32<br>signature: string<br>recipient: string"
      ],
      "text/plain": [
       "<IPython.core.display.Markdown object>"
      ]
     },
     "metadata": {},
     "output_type": "display_data"
    },
    {
     "data": {
      "text/html": [
       "<div>\n",
       "<style scoped>\n",
       "    .dataframe tbody tr th:only-of-type {\n",
       "        vertical-align: middle;\n",
       "    }\n",
       "\n",
       "    .dataframe tbody tr th {\n",
       "        vertical-align: top;\n",
       "    }\n",
       "\n",
       "    .dataframe thead th {\n",
       "        text-align: right;\n",
       "    }\n",
       "</style>\n",
       "<table border=\"1\" class=\"dataframe\">\n",
       "  <thead>\n",
       "    <tr style=\"text-align: right;\">\n",
       "      <th></th>\n",
       "      <th>chain_id</th>\n",
       "      <th>round_id</th>\n",
       "      <th>id</th>\n",
       "      <th>project_id</th>\n",
       "      <th>status</th>\n",
       "      <th>amount_usd</th>\n",
       "      <th>votes</th>\n",
       "      <th>unique_contributors</th>\n",
       "      <th>metadata</th>\n",
       "      <th>created_at_block</th>\n",
       "      <th>status_updated_at_block</th>\n",
       "      <th>status_snapshots</th>\n",
       "      <th>signature</th>\n",
       "      <th>recipient</th>\n",
       "    </tr>\n",
       "  </thead>\n",
       "  <tbody>\n",
       "    <tr>\n",
       "      <th>0</th>\n",
       "      <td>280</td>\n",
       "      <td>0xfff13d967d27b564838d413d98a53e0c013fa7d9</td>\n",
       "      <td>0</td>\n",
       "      <td>0x27ecde7fbbd667c76299df57b340b18b025ceb0d5dd0...</td>\n",
       "      <td>PENDING</td>\n",
       "      <td>0.000000</td>\n",
       "      <td>0</td>\n",
       "      <td>0</td>\n",
       "      <td>{\"signature\": \"0x6de148a3778a5cbe0d8664476164d...</td>\n",
       "      <td>14930930</td>\n",
       "      <td>14930930</td>\n",
       "      <td>[{'status': 'PENDING', 'statusUpdatedAtBlock':...</td>\n",
       "      <td>0x6de148a3778a5cbe0d8664476164d0e4ce1b27032a8d...</td>\n",
       "      <td>0xfff13d967d27b564838d413d98a53e0c013fa7d9</td>\n",
       "    </tr>\n",
       "    <tr>\n",
       "      <th>1</th>\n",
       "      <td>280</td>\n",
       "      <td>0x2f9e1523fe85a26602bf6518f6dfb70d44721dc1</td>\n",
       "      <td>0</td>\n",
       "      <td>0xae65357bd3576496fffa2f659acdd5681115d7799408...</td>\n",
       "      <td>PENDING</td>\n",
       "      <td>0.000000</td>\n",
       "      <td>0</td>\n",
       "      <td>0</td>\n",
       "      <td>{\"signature\": \"0xb725515be88d819eb8e8be676f18d...</td>\n",
       "      <td>14930985</td>\n",
       "      <td>14930985</td>\n",
       "      <td>[{'status': 'PENDING', 'statusUpdatedAtBlock':...</td>\n",
       "      <td>0xb725515be88d819eb8e8be676f18d2d19488a066e9c5...</td>\n",
       "      <td>0xc6d12fc5b80e6e142692719718287d7ee8a5747c</td>\n",
       "    </tr>\n",
       "    <tr>\n",
       "      <th>2</th>\n",
       "      <td>280</td>\n",
       "      <td>0x34704e4d2d38f1012ee019b893b639f74ba4f47b</td>\n",
       "      <td>0</td>\n",
       "      <td>0x27ecde7fbbd667c76299df57b340b18b025ceb0d5dd0...</td>\n",
       "      <td>PENDING</td>\n",
       "      <td>0.000000</td>\n",
       "      <td>0</td>\n",
       "      <td>0</td>\n",
       "      <td>{\"signature\": \"0x760cd292133844029e25c9d8b4ff5...</td>\n",
       "      <td>15055770</td>\n",
       "      <td>15055770</td>\n",
       "      <td>[{'status': 'PENDING', 'statusUpdatedAtBlock':...</td>\n",
       "      <td>0x760cd292133844029e25c9d8b4ff5b440a0d710e62ec...</td>\n",
       "      <td>0x34704e4d2d38f1012ee019b893b639f74ba4f47b</td>\n",
       "    </tr>\n",
       "    <tr>\n",
       "      <th>3</th>\n",
       "      <td>1</td>\n",
       "      <td>0x1427a0e71a222b0229a910dc72da01f8f04c7441</td>\n",
       "      <td>0</td>\n",
       "      <td>0x79f989da908001a071fc2b4c8d9abb30c04365aa8dc3...</td>\n",
       "      <td>APPROVED</td>\n",
       "      <td>82.552126</td>\n",
       "      <td>53</td>\n",
       "      <td>53</td>\n",
       "      <td>{\"signature\": \"0x5cee91b717744c5c25cea497b0744...</td>\n",
       "      <td>18503087</td>\n",
       "      <td>18717541</td>\n",
       "      <td>[{'status': 'PENDING', 'statusUpdatedAtBlock':...</td>\n",
       "      <td>0x5cee91b717744c5c25cea497b07444b245de3cfbffbf...</td>\n",
       "      <td>0xeb25e5a609ed19d69c33d91892d4b5d4f2bbdd8e</td>\n",
       "    </tr>\n",
       "  </tbody>\n",
       "</table>\n",
       "</div>"
      ],
      "text/plain": [
       "  chain_id                                    round_id  id  \\\n",
       "0      280  0xfff13d967d27b564838d413d98a53e0c013fa7d9   0   \n",
       "1      280  0x2f9e1523fe85a26602bf6518f6dfb70d44721dc1   0   \n",
       "2      280  0x34704e4d2d38f1012ee019b893b639f74ba4f47b   0   \n",
       "3        1  0x1427a0e71a222b0229a910dc72da01f8f04c7441   0   \n",
       "\n",
       "                                          project_id    status  amount_usd  \\\n",
       "0  0x27ecde7fbbd667c76299df57b340b18b025ceb0d5dd0...   PENDING    0.000000   \n",
       "1  0xae65357bd3576496fffa2f659acdd5681115d7799408...   PENDING    0.000000   \n",
       "2  0x27ecde7fbbd667c76299df57b340b18b025ceb0d5dd0...   PENDING    0.000000   \n",
       "3  0x79f989da908001a071fc2b4c8d9abb30c04365aa8dc3...  APPROVED   82.552126   \n",
       "\n",
       "   votes  unique_contributors  \\\n",
       "0      0                    0   \n",
       "1      0                    0   \n",
       "2      0                    0   \n",
       "3     53                   53   \n",
       "\n",
       "                                            metadata  created_at_block  \\\n",
       "0  {\"signature\": \"0x6de148a3778a5cbe0d8664476164d...          14930930   \n",
       "1  {\"signature\": \"0xb725515be88d819eb8e8be676f18d...          14930985   \n",
       "2  {\"signature\": \"0x760cd292133844029e25c9d8b4ff5...          15055770   \n",
       "3  {\"signature\": \"0x5cee91b717744c5c25cea497b0744...          18503087   \n",
       "\n",
       "   status_updated_at_block                                   status_snapshots  \\\n",
       "0                 14930930  [{'status': 'PENDING', 'statusUpdatedAtBlock':...   \n",
       "1                 14930985  [{'status': 'PENDING', 'statusUpdatedAtBlock':...   \n",
       "2                 15055770  [{'status': 'PENDING', 'statusUpdatedAtBlock':...   \n",
       "3                 18717541  [{'status': 'PENDING', 'statusUpdatedAtBlock':...   \n",
       "\n",
       "                                           signature  \\\n",
       "0  0x6de148a3778a5cbe0d8664476164d0e4ce1b27032a8d...   \n",
       "1  0xb725515be88d819eb8e8be676f18d2d19488a066e9c5...   \n",
       "2  0x760cd292133844029e25c9d8b4ff5b440a0d710e62ec...   \n",
       "3  0x5cee91b717744c5c25cea497b07444b245de3cfbffbf...   \n",
       "\n",
       "                                    recipient  \n",
       "0  0xfff13d967d27b564838d413d98a53e0c013fa7d9  \n",
       "1  0xc6d12fc5b80e6e142692719718287d7ee8a5747c  \n",
       "2  0x34704e4d2d38f1012ee019b893b639f74ba4f47b  \n",
       "3  0xeb25e5a609ed19d69c33d91892d4b5d4f2bbdd8e  "
      ]
     },
     "metadata": {},
     "output_type": "display_data"
    },
    {
     "data": {
      "text/markdown": [
       "## [round_votes.parquet](#file-listing)"
      ],
      "text/plain": [
       "<IPython.core.display.Markdown object>"
      ]
     },
     "metadata": {},
     "output_type": "display_data"
    },
    {
     "data": {
      "text/markdown": [
       "chain_id: string<br>round_id: string<br>id: string<br>transaction: string<br>block_number: int64<br>project_id: string<br>application_id: int64<br>voter: string<br>grant_address: string<br>token: string<br>amount: double<br>amount_usd: double<br>amount_round_token: double"
      ],
      "text/plain": [
       "<IPython.core.display.Markdown object>"
      ]
     },
     "metadata": {},
     "output_type": "display_data"
    },
    {
     "data": {
      "text/html": [
       "<div>\n",
       "<style scoped>\n",
       "    .dataframe tbody tr th:only-of-type {\n",
       "        vertical-align: middle;\n",
       "    }\n",
       "\n",
       "    .dataframe tbody tr th {\n",
       "        vertical-align: top;\n",
       "    }\n",
       "\n",
       "    .dataframe thead th {\n",
       "        text-align: right;\n",
       "    }\n",
       "</style>\n",
       "<table border=\"1\" class=\"dataframe\">\n",
       "  <thead>\n",
       "    <tr style=\"text-align: right;\">\n",
       "      <th></th>\n",
       "      <th>chain_id</th>\n",
       "      <th>round_id</th>\n",
       "      <th>id</th>\n",
       "      <th>transaction</th>\n",
       "      <th>block_number</th>\n",
       "      <th>project_id</th>\n",
       "      <th>application_id</th>\n",
       "      <th>voter</th>\n",
       "      <th>grant_address</th>\n",
       "      <th>token</th>\n",
       "      <th>amount</th>\n",
       "      <th>amount_usd</th>\n",
       "      <th>amount_round_token</th>\n",
       "    </tr>\n",
       "  </thead>\n",
       "  <tbody>\n",
       "    <tr>\n",
       "      <th>0</th>\n",
       "      <td>250</td>\n",
       "      <td>0x19d84682c0fd83df5920e29987221fa71f4ea75b</td>\n",
       "      <td>0x39e17a8935624409da1f8932570c7d693a6328a6a42a...</td>\n",
       "      <td>0x31f54e74e1cc53ccea26462810ed32e3701901c8f64f...</td>\n",
       "      <td>67413218</td>\n",
       "      <td>0xd2d10ca4b6b87fb6c0052ca3e0748236363d9e961d70...</td>\n",
       "      <td>2</td>\n",
       "      <td>0xabf28f8d9adfb2255f4a059e37d3bce9104969db</td>\n",
       "      <td>0x37e5e6eb36467f98392ebbb35f110fbb8238e6d3</td>\n",
       "      <td>0x83791638da5eb2faa432aff1c65fba47c5d29510</td>\n",
       "      <td>3.000000e+18</td>\n",
       "      <td>2.999475</td>\n",
       "      <td>1.469453e+19</td>\n",
       "    </tr>\n",
       "    <tr>\n",
       "      <th>1</th>\n",
       "      <td>250</td>\n",
       "      <td>0x19d84682c0fd83df5920e29987221fa71f4ea75b</td>\n",
       "      <td>0xddc53d22fbf190f569b0eef91196ef00e5bda0ae4a80...</td>\n",
       "      <td>0x31f54e74e1cc53ccea26462810ed32e3701901c8f64f...</td>\n",
       "      <td>67413218</td>\n",
       "      <td>0x24472c9a83946f8694084da07f9ae3087499b299e7a2...</td>\n",
       "      <td>1</td>\n",
       "      <td>0xabf28f8d9adfb2255f4a059e37d3bce9104969db</td>\n",
       "      <td>0x37e5e6eb36467f98392ebbb35f110fbb8238e6d3</td>\n",
       "      <td>0x83791638da5eb2faa432aff1c65fba47c5d29510</td>\n",
       "      <td>1.000000e+19</td>\n",
       "      <td>9.998252</td>\n",
       "      <td>4.898177e+19</td>\n",
       "    </tr>\n",
       "    <tr>\n",
       "      <th>2</th>\n",
       "      <td>250</td>\n",
       "      <td>0x19d84682c0fd83df5920e29987221fa71f4ea75b</td>\n",
       "      <td>0x94951ac2dcab4019adf38e55a77238784a1cf725b653...</td>\n",
       "      <td>0x31f54e74e1cc53ccea26462810ed32e3701901c8f64f...</td>\n",
       "      <td>67413218</td>\n",
       "      <td>0x4821b33f7e2079a82acdbcc452a13a8d59cc33b6981b...</td>\n",
       "      <td>0</td>\n",
       "      <td>0xabf28f8d9adfb2255f4a059e37d3bce9104969db</td>\n",
       "      <td>0x37e5e6eb36467f98392ebbb35f110fbb8238e6d3</td>\n",
       "      <td>0x83791638da5eb2faa432aff1c65fba47c5d29510</td>\n",
       "      <td>2.000000e+19</td>\n",
       "      <td>19.996503</td>\n",
       "      <td>9.796354e+19</td>\n",
       "    </tr>\n",
       "    <tr>\n",
       "      <th>3</th>\n",
       "      <td>250</td>\n",
       "      <td>0x19d84682c0fd83df5920e29987221fa71f4ea75b</td>\n",
       "      <td>0x98ab19ff5a369c4a3d2ef8ae9fc546179b9135ca7012...</td>\n",
       "      <td>0x1285af31632b737edc3a2681840f6a454080f37fe93f...</td>\n",
       "      <td>67413524</td>\n",
       "      <td>0x4821b33f7e2079a82acdbcc452a13a8d59cc33b6981b...</td>\n",
       "      <td>0</td>\n",
       "      <td>0x37e5e6eb36467f98392ebbb35f110fbb8238e6d3</td>\n",
       "      <td>0x37e5e6eb36467f98392ebbb35f110fbb8238e6d3</td>\n",
       "      <td>0x83791638da5eb2faa432aff1c65fba47c5d29510</td>\n",
       "      <td>5.000000e+18</td>\n",
       "      <td>4.999126</td>\n",
       "      <td>2.449089e+19</td>\n",
       "    </tr>\n",
       "  </tbody>\n",
       "</table>\n",
       "</div>"
      ],
      "text/plain": [
       "  chain_id                                    round_id  \\\n",
       "0      250  0x19d84682c0fd83df5920e29987221fa71f4ea75b   \n",
       "1      250  0x19d84682c0fd83df5920e29987221fa71f4ea75b   \n",
       "2      250  0x19d84682c0fd83df5920e29987221fa71f4ea75b   \n",
       "3      250  0x19d84682c0fd83df5920e29987221fa71f4ea75b   \n",
       "\n",
       "                                                  id  \\\n",
       "0  0x39e17a8935624409da1f8932570c7d693a6328a6a42a...   \n",
       "1  0xddc53d22fbf190f569b0eef91196ef00e5bda0ae4a80...   \n",
       "2  0x94951ac2dcab4019adf38e55a77238784a1cf725b653...   \n",
       "3  0x98ab19ff5a369c4a3d2ef8ae9fc546179b9135ca7012...   \n",
       "\n",
       "                                         transaction  block_number  \\\n",
       "0  0x31f54e74e1cc53ccea26462810ed32e3701901c8f64f...      67413218   \n",
       "1  0x31f54e74e1cc53ccea26462810ed32e3701901c8f64f...      67413218   \n",
       "2  0x31f54e74e1cc53ccea26462810ed32e3701901c8f64f...      67413218   \n",
       "3  0x1285af31632b737edc3a2681840f6a454080f37fe93f...      67413524   \n",
       "\n",
       "                                          project_id  application_id  \\\n",
       "0  0xd2d10ca4b6b87fb6c0052ca3e0748236363d9e961d70...               2   \n",
       "1  0x24472c9a83946f8694084da07f9ae3087499b299e7a2...               1   \n",
       "2  0x4821b33f7e2079a82acdbcc452a13a8d59cc33b6981b...               0   \n",
       "3  0x4821b33f7e2079a82acdbcc452a13a8d59cc33b6981b...               0   \n",
       "\n",
       "                                        voter  \\\n",
       "0  0xabf28f8d9adfb2255f4a059e37d3bce9104969db   \n",
       "1  0xabf28f8d9adfb2255f4a059e37d3bce9104969db   \n",
       "2  0xabf28f8d9adfb2255f4a059e37d3bce9104969db   \n",
       "3  0x37e5e6eb36467f98392ebbb35f110fbb8238e6d3   \n",
       "\n",
       "                                grant_address  \\\n",
       "0  0x37e5e6eb36467f98392ebbb35f110fbb8238e6d3   \n",
       "1  0x37e5e6eb36467f98392ebbb35f110fbb8238e6d3   \n",
       "2  0x37e5e6eb36467f98392ebbb35f110fbb8238e6d3   \n",
       "3  0x37e5e6eb36467f98392ebbb35f110fbb8238e6d3   \n",
       "\n",
       "                                        token        amount  amount_usd  \\\n",
       "0  0x83791638da5eb2faa432aff1c65fba47c5d29510  3.000000e+18    2.999475   \n",
       "1  0x83791638da5eb2faa432aff1c65fba47c5d29510  1.000000e+19    9.998252   \n",
       "2  0x83791638da5eb2faa432aff1c65fba47c5d29510  2.000000e+19   19.996503   \n",
       "3  0x83791638da5eb2faa432aff1c65fba47c5d29510  5.000000e+18    4.999126   \n",
       "\n",
       "   amount_round_token  \n",
       "0        1.469453e+19  \n",
       "1        4.898177e+19  \n",
       "2        9.796354e+19  \n",
       "3        2.449089e+19  "
      ]
     },
     "metadata": {},
     "output_type": "display_data"
    },
    {
     "data": {
      "text/markdown": [
       "## [rounds.parquet](#file-listing)"
      ],
      "text/plain": [
       "<IPython.core.display.Markdown object>"
      ]
     },
     "metadata": {},
     "output_type": "display_data"
    },
    {
     "data": {
      "text/markdown": [
       "id: string<br>amount_usd: double<br>votes: int64<br>token: string<br>match_amount: double<br>match_amount_usd: double<br>unique_contributors: int64<br>application_meta_ptr: string<br>application_metadata: string<br>meta_ptr: string<br>metadata: string<br>applications_start_time: int64<br>applications_end_time: double<br>round_start_time: int64<br>round_end_time: double<br>created_at_block: int64<br>updated_at_block: int64<br>chain_id: string<br>name: string<br>round_type: string<br>program_address: string<br>sybil_defense: bool"
      ],
      "text/plain": [
       "<IPython.core.display.Markdown object>"
      ]
     },
     "metadata": {},
     "output_type": "display_data"
    },
    {
     "data": {
      "text/html": [
       "<div>\n",
       "<style scoped>\n",
       "    .dataframe tbody tr th:only-of-type {\n",
       "        vertical-align: middle;\n",
       "    }\n",
       "\n",
       "    .dataframe tbody tr th {\n",
       "        vertical-align: top;\n",
       "    }\n",
       "\n",
       "    .dataframe thead th {\n",
       "        text-align: right;\n",
       "    }\n",
       "</style>\n",
       "<table border=\"1\" class=\"dataframe\">\n",
       "  <thead>\n",
       "    <tr style=\"text-align: right;\">\n",
       "      <th></th>\n",
       "      <th>id</th>\n",
       "      <th>amount_usd</th>\n",
       "      <th>votes</th>\n",
       "      <th>token</th>\n",
       "      <th>match_amount</th>\n",
       "      <th>match_amount_usd</th>\n",
       "      <th>unique_contributors</th>\n",
       "      <th>application_meta_ptr</th>\n",
       "      <th>application_metadata</th>\n",
       "      <th>meta_ptr</th>\n",
       "      <th>...</th>\n",
       "      <th>applications_end_time</th>\n",
       "      <th>round_start_time</th>\n",
       "      <th>round_end_time</th>\n",
       "      <th>created_at_block</th>\n",
       "      <th>updated_at_block</th>\n",
       "      <th>chain_id</th>\n",
       "      <th>name</th>\n",
       "      <th>round_type</th>\n",
       "      <th>program_address</th>\n",
       "      <th>sybil_defense</th>\n",
       "    </tr>\n",
       "  </thead>\n",
       "  <tbody>\n",
       "    <tr>\n",
       "      <th>0</th>\n",
       "      <td>0xf16c7c3e7bb378c716f2b349a999d8ce56f3cfb5</td>\n",
       "      <td>0.010547</td>\n",
       "      <td>3</td>\n",
       "      <td>0x0000000000000000000000000000000000000000</td>\n",
       "      <td>1.000000e+18</td>\n",
       "      <td>0.525015</td>\n",
       "      <td>2</td>\n",
       "      <td>bafkreid4qdvpgogw7pec5m57uvdurkvdu5z7vmtuczuoa...</td>\n",
       "      <td>{'lastUpdatedOn': 1695307508483, 'applicationS...</td>\n",
       "      <td>bafkreid3oppvwhxli3sqkf3br2b3k4rwa74uczwl4v2ii...</td>\n",
       "      <td>...</td>\n",
       "      <td>1.695341e+09</td>\n",
       "      <td>1695307560</td>\n",
       "      <td>1.695341e+09</td>\n",
       "      <td>47813168</td>\n",
       "      <td>47813168</td>\n",
       "      <td>137</td>\n",
       "      <td>POLYGON ROUND</td>\n",
       "      <td>public</td>\n",
       "      <td>0xf0da973d2610aee80265a614c0b5f43dedaf0e24</td>\n",
       "      <td>True</td>\n",
       "    </tr>\n",
       "    <tr>\n",
       "      <th>1</th>\n",
       "      <td>0xb410680b922e91f2ea4159331ffeaaadb217f246</td>\n",
       "      <td>0.000000</td>\n",
       "      <td>0</td>\n",
       "      <td>0x0000000000000000000000000000000000000000</td>\n",
       "      <td>1.000000e+18</td>\n",
       "      <td>0.526396</td>\n",
       "      <td>0</td>\n",
       "      <td>bafkreie2uqqanbeiuabkrzpghjqkjlgimjbm5w3t5yver...</td>\n",
       "      <td>{'lastUpdatedOn': 1695318545342, 'applicationS...</td>\n",
       "      <td>bafkreifaysglowdjlhivjv5utus766tos4me3zroygbcy...</td>\n",
       "      <td>...</td>\n",
       "      <td>1.696032e+09</td>\n",
       "      <td>1695319200</td>\n",
       "      <td>1.696032e+09</td>\n",
       "      <td>47818260</td>\n",
       "      <td>47818260</td>\n",
       "      <td>137</td>\n",
       "      <td>Michelle's Test Round</td>\n",
       "      <td>private</td>\n",
       "      <td>0x2707d4017f72e2a4e688ed18b4a9b16fbb8adf8d</td>\n",
       "      <td>True</td>\n",
       "    </tr>\n",
       "    <tr>\n",
       "      <th>2</th>\n",
       "      <td>0x353d3485fb5b560bcb79780ced5ddd26331040a9</td>\n",
       "      <td>0.000000</td>\n",
       "      <td>0</td>\n",
       "      <td>0x0000000000000000000000000000000000000000</td>\n",
       "      <td>3.000000e+18</td>\n",
       "      <td>1.575025</td>\n",
       "      <td>0</td>\n",
       "      <td>bafkreifiyr7moy45suwlu7wvpa3ftdxhsgaxsbw2m3grx...</td>\n",
       "      <td>{'lastUpdatedOn': 1695328536702, 'applicationS...</td>\n",
       "      <td>bafkreifbwivdn25q7tnkecu6wt6nzutndyb25w5zpbfre...</td>\n",
       "      <td>...</td>\n",
       "      <td>1.695686e+09</td>\n",
       "      <td>1695600000</td>\n",
       "      <td>1.695686e+09</td>\n",
       "      <td>47822940</td>\n",
       "      <td>47822940</td>\n",
       "      <td>137</td>\n",
       "      <td>July Testing Round</td>\n",
       "      <td>private</td>\n",
       "      <td>0x0b36268807abcdffe7333331990c90c271ef5754</td>\n",
       "      <td>True</td>\n",
       "    </tr>\n",
       "    <tr>\n",
       "      <th>3</th>\n",
       "      <td>0xbe245931c95d9b005ebf613090d932d10d3d5249</td>\n",
       "      <td>0.000000</td>\n",
       "      <td>0</td>\n",
       "      <td>0x0000000000000000000000000000000000000000</td>\n",
       "      <td>5.000000e+23</td>\n",
       "      <td>260098.220000</td>\n",
       "      <td>0</td>\n",
       "      <td>bafkreih37fpyqtpxrigid7ceobwrknd5wo3zfvwi4cqrs...</td>\n",
       "      <td>{'lastUpdatedOn': 1695486571265, 'applicationS...</td>\n",
       "      <td>bafkreidetdecljkkzkpkwybvhjflne7g6eugotiix5cre...</td>\n",
       "      <td>...</td>\n",
       "      <td>1.698710e+09</td>\n",
       "      <td>1695859200</td>\n",
       "      <td>1.698710e+09</td>\n",
       "      <td>47895093</td>\n",
       "      <td>47895093</td>\n",
       "      <td>137</td>\n",
       "      <td>Join the African Revolution</td>\n",
       "      <td>public</td>\n",
       "      <td>0x28b4b1e3b3170f8a956f7202b5484db6c1492e7f</td>\n",
       "      <td>False</td>\n",
       "    </tr>\n",
       "  </tbody>\n",
       "</table>\n",
       "<p>4 rows × 22 columns</p>\n",
       "</div>"
      ],
      "text/plain": [
       "                                           id  amount_usd  votes  \\\n",
       "0  0xf16c7c3e7bb378c716f2b349a999d8ce56f3cfb5    0.010547      3   \n",
       "1  0xb410680b922e91f2ea4159331ffeaaadb217f246    0.000000      0   \n",
       "2  0x353d3485fb5b560bcb79780ced5ddd26331040a9    0.000000      0   \n",
       "3  0xbe245931c95d9b005ebf613090d932d10d3d5249    0.000000      0   \n",
       "\n",
       "                                        token  match_amount  match_amount_usd  \\\n",
       "0  0x0000000000000000000000000000000000000000  1.000000e+18          0.525015   \n",
       "1  0x0000000000000000000000000000000000000000  1.000000e+18          0.526396   \n",
       "2  0x0000000000000000000000000000000000000000  3.000000e+18          1.575025   \n",
       "3  0x0000000000000000000000000000000000000000  5.000000e+23     260098.220000   \n",
       "\n",
       "   unique_contributors                               application_meta_ptr  \\\n",
       "0                    2  bafkreid4qdvpgogw7pec5m57uvdurkvdu5z7vmtuczuoa...   \n",
       "1                    0  bafkreie2uqqanbeiuabkrzpghjqkjlgimjbm5w3t5yver...   \n",
       "2                    0  bafkreifiyr7moy45suwlu7wvpa3ftdxhsgaxsbw2m3grx...   \n",
       "3                    0  bafkreih37fpyqtpxrigid7ceobwrknd5wo3zfvwi4cqrs...   \n",
       "\n",
       "                                application_metadata  \\\n",
       "0  {'lastUpdatedOn': 1695307508483, 'applicationS...   \n",
       "1  {'lastUpdatedOn': 1695318545342, 'applicationS...   \n",
       "2  {'lastUpdatedOn': 1695328536702, 'applicationS...   \n",
       "3  {'lastUpdatedOn': 1695486571265, 'applicationS...   \n",
       "\n",
       "                                            meta_ptr  ...  \\\n",
       "0  bafkreid3oppvwhxli3sqkf3br2b3k4rwa74uczwl4v2ii...  ...   \n",
       "1  bafkreifaysglowdjlhivjv5utus766tos4me3zroygbcy...  ...   \n",
       "2  bafkreifbwivdn25q7tnkecu6wt6nzutndyb25w5zpbfre...  ...   \n",
       "3  bafkreidetdecljkkzkpkwybvhjflne7g6eugotiix5cre...  ...   \n",
       "\n",
       "  applications_end_time  round_start_time  round_end_time  created_at_block  \\\n",
       "0          1.695341e+09        1695307560    1.695341e+09          47813168   \n",
       "1          1.696032e+09        1695319200    1.696032e+09          47818260   \n",
       "2          1.695686e+09        1695600000    1.695686e+09          47822940   \n",
       "3          1.698710e+09        1695859200    1.698710e+09          47895093   \n",
       "\n",
       "   updated_at_block  chain_id                         name round_type  \\\n",
       "0          47813168       137                POLYGON ROUND     public   \n",
       "1          47818260       137        Michelle's Test Round    private   \n",
       "2          47822940       137           July Testing Round    private   \n",
       "3          47895093       137  Join the African Revolution     public   \n",
       "\n",
       "                              program_address sybil_defense  \n",
       "0  0xf0da973d2610aee80265a614c0b5f43dedaf0e24          True  \n",
       "1  0x2707d4017f72e2a4e688ed18b4a9b16fbb8adf8d          True  \n",
       "2  0x0b36268807abcdffe7333331990c90c271ef5754          True  \n",
       "3  0x28b4b1e3b3170f8a956f7202b5484db6c1492e7f         False  \n",
       "\n",
       "[4 rows x 22 columns]"
      ]
     },
     "metadata": {},
     "output_type": "display_data"
    }
   ],
   "source": [
    "# | output: asis\n",
    "\n",
    "import pandas as pd\n",
    "from pyarrow import parquet as pq\n",
    "\n",
    "\n",
    "def print_file_sections(files, with_schema=True):\n",
    "    for file_name in files:\n",
    "        file_path = os.path.join(EXPORT_PATH, file_name)\n",
    "        if not os.path.exists(file_path):\n",
    "            print(f\"File not found: {file_name}\")\n",
    "            continue\n",
    "\n",
    "        md(f\"## [{file_name}](#file-listing)\")\n",
    "\n",
    "        if with_schema:\n",
    "            try:\n",
    "                schema = pq.read_schema(file_path)\n",
    "                schema_str = str(schema).replace(\"\\n\", \"<br>\")\n",
    "                md(schema_str)\n",
    "\n",
    "            except Exception as e:\n",
    "                print(\"Could not read schema:\", e)\n",
    "\n",
    "        display(pd.read_parquet(file_path).head(4))\n",
    "\n",
    "\n",
    "print_file_sections(processed_files, with_schema=True)"
   ]
  },
  {
   "cell_type": "markdown",
   "metadata": {},
   "source": [
    "## Raw Files"
   ]
  },
  {
   "cell_type": "code",
   "execution_count": 4,
   "metadata": {},
   "outputs": [
    {
     "data": {
      "text/markdown": [
       "## [public_raw_chain_metadata.parquet](#file-listing)"
      ],
      "text/plain": [
       "<IPython.core.display.Markdown object>"
      ]
     },
     "metadata": {},
     "output_type": "display_data"
    },
    {
     "data": {
      "text/markdown": [
       "name: string<br>chain: string<br>icon: string<br>rpc: list<element: string><br>  child 0, element: string<br>features: list<element: struct<name: string>><br>  child 0, element: struct<name: string><br>      child 0, name: string<br>faucets: list<element: int32><br>  child 0, element: int32<br>nativeCurrency: struct<name: string, symbol: string, decimals: int32><br>  child 0, name: string<br>  child 1, symbol: string<br>  child 2, decimals: int32<br>infoURL: string<br>shortName: string<br>chainId: string<br>networkId: int64<br>slip44: int64<br>ens: struct<registry: string><br>  child 0, registry: string<br>explorers: list<element: map<string, string ('element')>><br>  child 0, element: map<string, string ('element')><br>      child 0, element: struct<key: string not null, value: string> not null<br>          child 0, key: string not null<br>          child 1, value: string<br>title: string<br>status: string<br>redFlags: int32<br>parent: struct<type: string, chain: string, bridges: list<element: struct<url: string>>><br>  child 0, type: string<br>  child 1, chain: string<br>  child 2, bridges: list<element: struct<url: string>><br>      child 0, element: struct<url: string><br>          child 0, url: string"
      ],
      "text/plain": [
       "<IPython.core.display.Markdown object>"
      ]
     },
     "metadata": {},
     "output_type": "display_data"
    },
    {
     "data": {
      "text/html": [
       "<div>\n",
       "<style scoped>\n",
       "    .dataframe tbody tr th:only-of-type {\n",
       "        vertical-align: middle;\n",
       "    }\n",
       "\n",
       "    .dataframe tbody tr th {\n",
       "        vertical-align: top;\n",
       "    }\n",
       "\n",
       "    .dataframe thead th {\n",
       "        text-align: right;\n",
       "    }\n",
       "</style>\n",
       "<table border=\"1\" class=\"dataframe\">\n",
       "  <thead>\n",
       "    <tr style=\"text-align: right;\">\n",
       "      <th></th>\n",
       "      <th>name</th>\n",
       "      <th>chain</th>\n",
       "      <th>icon</th>\n",
       "      <th>rpc</th>\n",
       "      <th>features</th>\n",
       "      <th>faucets</th>\n",
       "      <th>nativeCurrency</th>\n",
       "      <th>infoURL</th>\n",
       "      <th>shortName</th>\n",
       "      <th>chainId</th>\n",
       "      <th>networkId</th>\n",
       "      <th>slip44</th>\n",
       "      <th>ens</th>\n",
       "      <th>explorers</th>\n",
       "      <th>title</th>\n",
       "      <th>status</th>\n",
       "      <th>redFlags</th>\n",
       "      <th>parent</th>\n",
       "    </tr>\n",
       "  </thead>\n",
       "  <tbody>\n",
       "    <tr>\n",
       "      <th>0</th>\n",
       "      <td>Ethereum Mainnet</td>\n",
       "      <td>ETH</td>\n",
       "      <td>ethereum</td>\n",
       "      <td>[https://mainnet.infura.io/v3/${INFURA_API_KEY...</td>\n",
       "      <td>[{'name': 'EIP155'}, {'name': 'EIP1559'}]</td>\n",
       "      <td>[]</td>\n",
       "      <td>{'name': 'Ether', 'symbol': 'ETH', 'decimals':...</td>\n",
       "      <td>https://ethereum.org</td>\n",
       "      <td>eth</td>\n",
       "      <td>1</td>\n",
       "      <td>1</td>\n",
       "      <td>60.0</td>\n",
       "      <td>{'registry': '0x00000000000C2E074eC69A0dFb2997...</td>\n",
       "      <td>[[(name, etherscan), (url, https://etherscan.i...</td>\n",
       "      <td>None</td>\n",
       "      <td>None</td>\n",
       "      <td>NaN</td>\n",
       "      <td>None</td>\n",
       "    </tr>\n",
       "    <tr>\n",
       "      <th>1</th>\n",
       "      <td>OP Mainnet</td>\n",
       "      <td>ETH</td>\n",
       "      <td>None</td>\n",
       "      <td>[https://mainnet.optimism.io, https://optimism...</td>\n",
       "      <td>None</td>\n",
       "      <td>[]</td>\n",
       "      <td>{'name': 'Ether', 'symbol': 'ETH', 'decimals':...</td>\n",
       "      <td>https://optimism.io</td>\n",
       "      <td>oeth</td>\n",
       "      <td>10</td>\n",
       "      <td>10</td>\n",
       "      <td>NaN</td>\n",
       "      <td>None</td>\n",
       "      <td>[[(name, etherscan), (url, https://optimistic....</td>\n",
       "      <td>None</td>\n",
       "      <td>None</td>\n",
       "      <td>NaN</td>\n",
       "      <td>None</td>\n",
       "    </tr>\n",
       "    <tr>\n",
       "      <th>2</th>\n",
       "      <td>Polygon Mainnet</td>\n",
       "      <td>Polygon</td>\n",
       "      <td>polygon</td>\n",
       "      <td>[https://polygon-rpc.com/, https://rpc-mainnet...</td>\n",
       "      <td>None</td>\n",
       "      <td>[]</td>\n",
       "      <td>{'name': 'MATIC', 'symbol': 'MATIC', 'decimals...</td>\n",
       "      <td>https://polygon.technology/</td>\n",
       "      <td>matic</td>\n",
       "      <td>137</td>\n",
       "      <td>137</td>\n",
       "      <td>966.0</td>\n",
       "      <td>None</td>\n",
       "      <td>[[(name, polygonscan), (url, https://polygonsc...</td>\n",
       "      <td>None</td>\n",
       "      <td>None</td>\n",
       "      <td>NaN</td>\n",
       "      <td>None</td>\n",
       "    </tr>\n",
       "    <tr>\n",
       "      <th>3</th>\n",
       "      <td>Fantom Opera</td>\n",
       "      <td>FTM</td>\n",
       "      <td>fantom</td>\n",
       "      <td>[https://rpc.ftm.tools, https://fantom.publicn...</td>\n",
       "      <td>None</td>\n",
       "      <td>[]</td>\n",
       "      <td>{'name': 'Fantom', 'symbol': 'FTM', 'decimals'...</td>\n",
       "      <td>https://fantom.foundation</td>\n",
       "      <td>ftm</td>\n",
       "      <td>250</td>\n",
       "      <td>250</td>\n",
       "      <td>NaN</td>\n",
       "      <td>None</td>\n",
       "      <td>[[(name, ftmscan), (url, https://ftmscan.com),...</td>\n",
       "      <td>None</td>\n",
       "      <td>None</td>\n",
       "      <td>NaN</td>\n",
       "      <td>None</td>\n",
       "    </tr>\n",
       "  </tbody>\n",
       "</table>\n",
       "</div>"
      ],
      "text/plain": [
       "               name    chain      icon  \\\n",
       "0  Ethereum Mainnet      ETH  ethereum   \n",
       "1        OP Mainnet      ETH      None   \n",
       "2   Polygon Mainnet  Polygon   polygon   \n",
       "3      Fantom Opera      FTM    fantom   \n",
       "\n",
       "                                                 rpc  \\\n",
       "0  [https://mainnet.infura.io/v3/${INFURA_API_KEY...   \n",
       "1  [https://mainnet.optimism.io, https://optimism...   \n",
       "2  [https://polygon-rpc.com/, https://rpc-mainnet...   \n",
       "3  [https://rpc.ftm.tools, https://fantom.publicn...   \n",
       "\n",
       "                                    features faucets  \\\n",
       "0  [{'name': 'EIP155'}, {'name': 'EIP1559'}]      []   \n",
       "1                                       None      []   \n",
       "2                                       None      []   \n",
       "3                                       None      []   \n",
       "\n",
       "                                      nativeCurrency  \\\n",
       "0  {'name': 'Ether', 'symbol': 'ETH', 'decimals':...   \n",
       "1  {'name': 'Ether', 'symbol': 'ETH', 'decimals':...   \n",
       "2  {'name': 'MATIC', 'symbol': 'MATIC', 'decimals...   \n",
       "3  {'name': 'Fantom', 'symbol': 'FTM', 'decimals'...   \n",
       "\n",
       "                       infoURL shortName chainId  networkId  slip44  \\\n",
       "0         https://ethereum.org       eth       1          1    60.0   \n",
       "1          https://optimism.io      oeth      10         10     NaN   \n",
       "2  https://polygon.technology/     matic     137        137   966.0   \n",
       "3    https://fantom.foundation       ftm     250        250     NaN   \n",
       "\n",
       "                                                 ens  \\\n",
       "0  {'registry': '0x00000000000C2E074eC69A0dFb2997...   \n",
       "1                                               None   \n",
       "2                                               None   \n",
       "3                                               None   \n",
       "\n",
       "                                           explorers title status  redFlags  \\\n",
       "0  [[(name, etherscan), (url, https://etherscan.i...  None   None       NaN   \n",
       "1  [[(name, etherscan), (url, https://optimistic....  None   None       NaN   \n",
       "2  [[(name, polygonscan), (url, https://polygonsc...  None   None       NaN   \n",
       "3  [[(name, ftmscan), (url, https://ftmscan.com),...  None   None       NaN   \n",
       "\n",
       "  parent  \n",
       "0   None  \n",
       "1   None  \n",
       "2   None  \n",
       "3   None  "
      ]
     },
     "metadata": {},
     "output_type": "display_data"
    },
    {
     "data": {
      "text/markdown": [
       "## [public_raw_passport_scores.parquet](#file-listing)"
      ],
      "text/plain": [
       "<IPython.core.display.Markdown object>"
      ]
     },
     "metadata": {},
     "output_type": "display_data"
    },
    {
     "data": {
      "text/markdown": [
       "address: string<br>score: int64<br>last_score_timestamp: timestamp[us, tz=UTC]<br>status: string<br>evidence: struct<type: string, success: bool, rawScore: string, threshold: string><br>  child 0, type: string<br>  child 1, success: bool<br>  child 2, rawScore: string<br>  child 3, threshold: string<br>id: int64"
      ],
      "text/plain": [
       "<IPython.core.display.Markdown object>"
      ]
     },
     "metadata": {},
     "output_type": "display_data"
    },
    {
     "data": {
      "text/html": [
       "<div>\n",
       "<style scoped>\n",
       "    .dataframe tbody tr th:only-of-type {\n",
       "        vertical-align: middle;\n",
       "    }\n",
       "\n",
       "    .dataframe tbody tr th {\n",
       "        vertical-align: top;\n",
       "    }\n",
       "\n",
       "    .dataframe thead th {\n",
       "        text-align: right;\n",
       "    }\n",
       "</style>\n",
       "<table border=\"1\" class=\"dataframe\">\n",
       "  <thead>\n",
       "    <tr style=\"text-align: right;\">\n",
       "      <th></th>\n",
       "      <th>address</th>\n",
       "      <th>score</th>\n",
       "      <th>last_score_timestamp</th>\n",
       "      <th>status</th>\n",
       "      <th>evidence</th>\n",
       "      <th>id</th>\n",
       "    </tr>\n",
       "  </thead>\n",
       "  <tbody>\n",
       "    <tr>\n",
       "      <th>0</th>\n",
       "      <td>0x0000000000000000000000000000000000000000</td>\n",
       "      <td>0</td>\n",
       "      <td>2023-12-29 08:07:07.327000+00:00</td>\n",
       "      <td>DONE</td>\n",
       "      <td>{'type': 'ThresholdScoreCheck', 'success': Fal...</td>\n",
       "      <td>267616</td>\n",
       "    </tr>\n",
       "    <tr>\n",
       "      <th>1</th>\n",
       "      <td>0x0000000000098341a924bd53454654a0dbbc4e43</td>\n",
       "      <td>0</td>\n",
       "      <td>2023-12-29 08:20:47.033000+00:00</td>\n",
       "      <td>DONE</td>\n",
       "      <td>{'type': 'ThresholdScoreCheck', 'success': Fal...</td>\n",
       "      <td>480966</td>\n",
       "    </tr>\n",
       "    <tr>\n",
       "      <th>2</th>\n",
       "      <td>0x0000000000ce6d8c1fba76f26d6cc5db71432710</td>\n",
       "      <td>0</td>\n",
       "      <td>2023-12-29 10:58:03.829000+00:00</td>\n",
       "      <td>DONE</td>\n",
       "      <td>{'type': 'ThresholdScoreCheck', 'success': Fal...</td>\n",
       "      <td>1783713</td>\n",
       "    </tr>\n",
       "    <tr>\n",
       "      <th>3</th>\n",
       "      <td>0x00000000037a08ce8c4917a5c58f40c85367df0c</td>\n",
       "      <td>1</td>\n",
       "      <td>2023-12-29 07:29:03.207000+00:00</td>\n",
       "      <td>DONE</td>\n",
       "      <td>{'type': 'ThresholdScoreCheck', 'success': Tru...</td>\n",
       "      <td>132926</td>\n",
       "    </tr>\n",
       "  </tbody>\n",
       "</table>\n",
       "</div>"
      ],
      "text/plain": [
       "                                      address  score  \\\n",
       "0  0x0000000000000000000000000000000000000000      0   \n",
       "1  0x0000000000098341a924bd53454654a0dbbc4e43      0   \n",
       "2  0x0000000000ce6d8c1fba76f26d6cc5db71432710      0   \n",
       "3  0x00000000037a08ce8c4917a5c58f40c85367df0c      1   \n",
       "\n",
       "              last_score_timestamp status  \\\n",
       "0 2023-12-29 08:07:07.327000+00:00   DONE   \n",
       "1 2023-12-29 08:20:47.033000+00:00   DONE   \n",
       "2 2023-12-29 10:58:03.829000+00:00   DONE   \n",
       "3 2023-12-29 07:29:03.207000+00:00   DONE   \n",
       "\n",
       "                                            evidence       id  \n",
       "0  {'type': 'ThresholdScoreCheck', 'success': Fal...   267616  \n",
       "1  {'type': 'ThresholdScoreCheck', 'success': Fal...   480966  \n",
       "2  {'type': 'ThresholdScoreCheck', 'success': Fal...  1783713  \n",
       "3  {'type': 'ThresholdScoreCheck', 'success': Tru...   132926  "
      ]
     },
     "metadata": {},
     "output_type": "display_data"
    },
    {
     "data": {
      "text/markdown": [
       "## [public_raw_prices.parquet](#file-listing)"
      ],
      "text/plain": [
       "<IPython.core.display.Markdown object>"
      ]
     },
     "metadata": {},
     "output_type": "display_data"
    },
    {
     "data": {
      "text/markdown": [
       "token: string<br>code: string<br>price: double<br>timestamp: timestamp[us]<br>block: int64<br>chainId: string"
      ],
      "text/plain": [
       "<IPython.core.display.Markdown object>"
      ]
     },
     "metadata": {},
     "output_type": "display_data"
    },
    {
     "data": {
      "text/html": [
       "<div>\n",
       "<style scoped>\n",
       "    .dataframe tbody tr th:only-of-type {\n",
       "        vertical-align: middle;\n",
       "    }\n",
       "\n",
       "    .dataframe tbody tr th {\n",
       "        vertical-align: top;\n",
       "    }\n",
       "\n",
       "    .dataframe thead th {\n",
       "        text-align: right;\n",
       "    }\n",
       "</style>\n",
       "<table border=\"1\" class=\"dataframe\">\n",
       "  <thead>\n",
       "    <tr style=\"text-align: right;\">\n",
       "      <th></th>\n",
       "      <th>token</th>\n",
       "      <th>code</th>\n",
       "      <th>price</th>\n",
       "      <th>timestamp</th>\n",
       "      <th>block</th>\n",
       "      <th>chainId</th>\n",
       "    </tr>\n",
       "  </thead>\n",
       "  <tbody>\n",
       "    <tr>\n",
       "      <th>0</th>\n",
       "      <td>0x0000000000000000000000000000000000000000</td>\n",
       "      <td>ETH</td>\n",
       "      <td>2281.674286</td>\n",
       "      <td>2024-01-01 00:00:00</td>\n",
       "      <td>15383432</td>\n",
       "      <td>280</td>\n",
       "    </tr>\n",
       "    <tr>\n",
       "      <th>1</th>\n",
       "      <td>0x0000000000000000000000000000000000000000</td>\n",
       "      <td>ETH</td>\n",
       "      <td>2296.584966</td>\n",
       "      <td>2024-01-01 01:00:00</td>\n",
       "      <td>15384995</td>\n",
       "      <td>280</td>\n",
       "    </tr>\n",
       "    <tr>\n",
       "      <th>2</th>\n",
       "      <td>0x0000000000000000000000000000000000000000</td>\n",
       "      <td>ETH</td>\n",
       "      <td>2299.930925</td>\n",
       "      <td>2024-01-01 02:00:00</td>\n",
       "      <td>15386538</td>\n",
       "      <td>280</td>\n",
       "    </tr>\n",
       "    <tr>\n",
       "      <th>3</th>\n",
       "      <td>0x0000000000000000000000000000000000000000</td>\n",
       "      <td>ETH</td>\n",
       "      <td>2293.858253</td>\n",
       "      <td>2024-01-01 03:00:00</td>\n",
       "      <td>15387989</td>\n",
       "      <td>280</td>\n",
       "    </tr>\n",
       "  </tbody>\n",
       "</table>\n",
       "</div>"
      ],
      "text/plain": [
       "                                        token code        price  \\\n",
       "0  0x0000000000000000000000000000000000000000  ETH  2281.674286   \n",
       "1  0x0000000000000000000000000000000000000000  ETH  2296.584966   \n",
       "2  0x0000000000000000000000000000000000000000  ETH  2299.930925   \n",
       "3  0x0000000000000000000000000000000000000000  ETH  2293.858253   \n",
       "\n",
       "            timestamp     block chainId  \n",
       "0 2024-01-01 00:00:00  15383432     280  \n",
       "1 2024-01-01 01:00:00  15384995     280  \n",
       "2 2024-01-01 02:00:00  15386538     280  \n",
       "3 2024-01-01 03:00:00  15387989     280  "
      ]
     },
     "metadata": {},
     "output_type": "display_data"
    },
    {
     "data": {
      "text/markdown": [
       "## [public_raw_projects.parquet](#file-listing)"
      ],
      "text/plain": [
       "<IPython.core.display.Markdown object>"
      ]
     },
     "metadata": {},
     "output_type": "display_data"
    },
    {
     "data": {
      "text/markdown": [
       "id: string<br>projectNumber: int64<br>metaPtr: string<br>metadata: string<br>owners: list<element: string><br>  child 0, element: string<br>createdAtBlock: int64<br>chainId: string"
      ],
      "text/plain": [
       "<IPython.core.display.Markdown object>"
      ]
     },
     "metadata": {},
     "output_type": "display_data"
    },
    {
     "data": {
      "text/html": [
       "<div>\n",
       "<style scoped>\n",
       "    .dataframe tbody tr th:only-of-type {\n",
       "        vertical-align: middle;\n",
       "    }\n",
       "\n",
       "    .dataframe tbody tr th {\n",
       "        vertical-align: top;\n",
       "    }\n",
       "\n",
       "    .dataframe thead th {\n",
       "        text-align: right;\n",
       "    }\n",
       "</style>\n",
       "<table border=\"1\" class=\"dataframe\">\n",
       "  <thead>\n",
       "    <tr style=\"text-align: right;\">\n",
       "      <th></th>\n",
       "      <th>id</th>\n",
       "      <th>projectNumber</th>\n",
       "      <th>metaPtr</th>\n",
       "      <th>metadata</th>\n",
       "      <th>owners</th>\n",
       "      <th>createdAtBlock</th>\n",
       "      <th>chainId</th>\n",
       "    </tr>\n",
       "  </thead>\n",
       "  <tbody>\n",
       "    <tr>\n",
       "      <th>0</th>\n",
       "      <td>0xfe796d86ea81cc0343025b3860876aa6516f1afe8b94...</td>\n",
       "      <td>0</td>\n",
       "      <td>bafkreicwhtude2cmyjecx3vfpnayobshjcckziuvfobqw...</td>\n",
       "      <td>{\"title\": \"FTM Test Project\", \"description\": \"...</td>\n",
       "      <td>[0x3f15B8c6F9939879Cb030D6dd935348E57109637]</td>\n",
       "      <td>50580559</td>\n",
       "      <td>250</td>\n",
       "    </tr>\n",
       "    <tr>\n",
       "      <th>1</th>\n",
       "      <td>0x9b5985c3fb65dca9733f9d6418ab107b2d2f2108ab59...</td>\n",
       "      <td>1</td>\n",
       "      <td>bafkreiepbxfp5uvpn3ff74cn42wodhrqbl3himw5oqlpp...</td>\n",
       "      <td>{\"title\": \"test ftm project\", \"description\": \"...</td>\n",
       "      <td>[0x63b265D170f35d6bb724A6c00b4DcC822EA97867]</td>\n",
       "      <td>50582583</td>\n",
       "      <td>250</td>\n",
       "    </tr>\n",
       "    <tr>\n",
       "      <th>2</th>\n",
       "      <td>0x8104847eab21b90e403b02a24c5b8050174873cb2356...</td>\n",
       "      <td>2</td>\n",
       "      <td>bafkreifvvexgja3bukdgiyfzgzzekla7wfimgq35bmbo2...</td>\n",
       "      <td>{\"title\": \"TalentDAO\", \"description\": \"Talent ...</td>\n",
       "      <td>[0x3f15B8c6F9939879Cb030D6dd935348E57109637]</td>\n",
       "      <td>50583305</td>\n",
       "      <td>250</td>\n",
       "    </tr>\n",
       "    <tr>\n",
       "      <th>3</th>\n",
       "      <td>0x0d5c967ccdc3ef600b1689d13a6661aec9c8332b2a7b...</td>\n",
       "      <td>3</td>\n",
       "      <td>bafkreie4cs53r6f327ai57ecoxw6omew3wbk4r7rgjwwj...</td>\n",
       "      <td>{\"title\": \"Nate's project\", \"description\": \"so...</td>\n",
       "      <td>[0x4873178BeA2DCd7022f0eF6c70048b0e05Bf9017]</td>\n",
       "      <td>50638712</td>\n",
       "      <td>250</td>\n",
       "    </tr>\n",
       "  </tbody>\n",
       "</table>\n",
       "</div>"
      ],
      "text/plain": [
       "                                                  id  projectNumber  \\\n",
       "0  0xfe796d86ea81cc0343025b3860876aa6516f1afe8b94...              0   \n",
       "1  0x9b5985c3fb65dca9733f9d6418ab107b2d2f2108ab59...              1   \n",
       "2  0x8104847eab21b90e403b02a24c5b8050174873cb2356...              2   \n",
       "3  0x0d5c967ccdc3ef600b1689d13a6661aec9c8332b2a7b...              3   \n",
       "\n",
       "                                             metaPtr  \\\n",
       "0  bafkreicwhtude2cmyjecx3vfpnayobshjcckziuvfobqw...   \n",
       "1  bafkreiepbxfp5uvpn3ff74cn42wodhrqbl3himw5oqlpp...   \n",
       "2  bafkreifvvexgja3bukdgiyfzgzzekla7wfimgq35bmbo2...   \n",
       "3  bafkreie4cs53r6f327ai57ecoxw6omew3wbk4r7rgjwwj...   \n",
       "\n",
       "                                            metadata  \\\n",
       "0  {\"title\": \"FTM Test Project\", \"description\": \"...   \n",
       "1  {\"title\": \"test ftm project\", \"description\": \"...   \n",
       "2  {\"title\": \"TalentDAO\", \"description\": \"Talent ...   \n",
       "3  {\"title\": \"Nate's project\", \"description\": \"so...   \n",
       "\n",
       "                                         owners  createdAtBlock chainId  \n",
       "0  [0x3f15B8c6F9939879Cb030D6dd935348E57109637]        50580559     250  \n",
       "1  [0x63b265D170f35d6bb724A6c00b4DcC822EA97867]        50582583     250  \n",
       "2  [0x3f15B8c6F9939879Cb030D6dd935348E57109637]        50583305     250  \n",
       "3  [0x4873178BeA2DCd7022f0eF6c70048b0e05Bf9017]        50638712     250  "
      ]
     },
     "metadata": {},
     "output_type": "display_data"
    },
    {
     "data": {
      "text/markdown": [
       "## [public_raw_round_applications.parquet](#file-listing)"
      ],
      "text/plain": [
       "<IPython.core.display.Markdown object>"
      ]
     },
     "metadata": {},
     "output_type": "display_data"
    },
    {
     "data": {
      "text/markdown": [
       "chainId: string<br>roundId: string<br>id: int64<br>projectId: string<br>status: string<br>amountUSD: double<br>votes: int64<br>uniqueContributors: int64<br>metadata: string<br>createdAtBlock: int64<br>statusUpdatedAtBlock: int64<br>statusSnapshots: list<element: struct<status: string, statusUpdatedAtBlock: int32>><br>  child 0, element: struct<status: string, statusUpdatedAtBlock: int32><br>      child 0, status: string<br>      child 1, statusUpdatedAtBlock: int32"
      ],
      "text/plain": [
       "<IPython.core.display.Markdown object>"
      ]
     },
     "metadata": {},
     "output_type": "display_data"
    },
    {
     "data": {
      "text/html": [
       "<div>\n",
       "<style scoped>\n",
       "    .dataframe tbody tr th:only-of-type {\n",
       "        vertical-align: middle;\n",
       "    }\n",
       "\n",
       "    .dataframe tbody tr th {\n",
       "        vertical-align: top;\n",
       "    }\n",
       "\n",
       "    .dataframe thead th {\n",
       "        text-align: right;\n",
       "    }\n",
       "</style>\n",
       "<table border=\"1\" class=\"dataframe\">\n",
       "  <thead>\n",
       "    <tr style=\"text-align: right;\">\n",
       "      <th></th>\n",
       "      <th>chainId</th>\n",
       "      <th>roundId</th>\n",
       "      <th>id</th>\n",
       "      <th>projectId</th>\n",
       "      <th>status</th>\n",
       "      <th>amountUSD</th>\n",
       "      <th>votes</th>\n",
       "      <th>uniqueContributors</th>\n",
       "      <th>metadata</th>\n",
       "      <th>createdAtBlock</th>\n",
       "      <th>statusUpdatedAtBlock</th>\n",
       "      <th>statusSnapshots</th>\n",
       "    </tr>\n",
       "  </thead>\n",
       "  <tbody>\n",
       "    <tr>\n",
       "      <th>0</th>\n",
       "      <td>280</td>\n",
       "      <td>0xFFf13D967d27b564838D413d98a53e0c013Fa7D9</td>\n",
       "      <td>0</td>\n",
       "      <td>0x27ecde7fbbd667c76299df57b340b18b025ceb0d5dd0...</td>\n",
       "      <td>PENDING</td>\n",
       "      <td>0.000000</td>\n",
       "      <td>0</td>\n",
       "      <td>0</td>\n",
       "      <td>{\"signature\": \"0x6de148a3778a5cbe0d8664476164d...</td>\n",
       "      <td>14930930</td>\n",
       "      <td>14930930</td>\n",
       "      <td>[{'status': 'PENDING', 'statusUpdatedAtBlock':...</td>\n",
       "    </tr>\n",
       "    <tr>\n",
       "      <th>1</th>\n",
       "      <td>280</td>\n",
       "      <td>0x2F9e1523FE85a26602bF6518F6DfB70d44721dC1</td>\n",
       "      <td>0</td>\n",
       "      <td>0xae65357bd3576496fffa2f659acdd5681115d7799408...</td>\n",
       "      <td>PENDING</td>\n",
       "      <td>0.000000</td>\n",
       "      <td>0</td>\n",
       "      <td>0</td>\n",
       "      <td>{\"signature\": \"0xb725515be88d819eb8e8be676f18d...</td>\n",
       "      <td>14930985</td>\n",
       "      <td>14930985</td>\n",
       "      <td>[{'status': 'PENDING', 'statusUpdatedAtBlock':...</td>\n",
       "    </tr>\n",
       "    <tr>\n",
       "      <th>2</th>\n",
       "      <td>280</td>\n",
       "      <td>0x34704E4d2d38f1012Ee019B893B639f74BA4f47B</td>\n",
       "      <td>0</td>\n",
       "      <td>0x27ecde7fbbd667c76299df57b340b18b025ceb0d5dd0...</td>\n",
       "      <td>PENDING</td>\n",
       "      <td>0.000000</td>\n",
       "      <td>0</td>\n",
       "      <td>0</td>\n",
       "      <td>{\"signature\": \"0x760cd292133844029e25c9d8b4ff5...</td>\n",
       "      <td>15055770</td>\n",
       "      <td>15055770</td>\n",
       "      <td>[{'status': 'PENDING', 'statusUpdatedAtBlock':...</td>\n",
       "    </tr>\n",
       "    <tr>\n",
       "      <th>3</th>\n",
       "      <td>1</td>\n",
       "      <td>0x1427A0E71a222b0229A910dc72da01F8F04C7441</td>\n",
       "      <td>0</td>\n",
       "      <td>0x79f989da908001a071fc2b4c8d9abb30c04365aa8dc3...</td>\n",
       "      <td>APPROVED</td>\n",
       "      <td>82.552126</td>\n",
       "      <td>53</td>\n",
       "      <td>53</td>\n",
       "      <td>{\"signature\": \"0x5cee91b717744c5c25cea497b0744...</td>\n",
       "      <td>18503087</td>\n",
       "      <td>18717541</td>\n",
       "      <td>[{'status': 'PENDING', 'statusUpdatedAtBlock':...</td>\n",
       "    </tr>\n",
       "  </tbody>\n",
       "</table>\n",
       "</div>"
      ],
      "text/plain": [
       "  chainId                                     roundId  id  \\\n",
       "0     280  0xFFf13D967d27b564838D413d98a53e0c013Fa7D9   0   \n",
       "1     280  0x2F9e1523FE85a26602bF6518F6DfB70d44721dC1   0   \n",
       "2     280  0x34704E4d2d38f1012Ee019B893B639f74BA4f47B   0   \n",
       "3       1  0x1427A0E71a222b0229A910dc72da01F8F04C7441   0   \n",
       "\n",
       "                                           projectId    status  amountUSD  \\\n",
       "0  0x27ecde7fbbd667c76299df57b340b18b025ceb0d5dd0...   PENDING   0.000000   \n",
       "1  0xae65357bd3576496fffa2f659acdd5681115d7799408...   PENDING   0.000000   \n",
       "2  0x27ecde7fbbd667c76299df57b340b18b025ceb0d5dd0...   PENDING   0.000000   \n",
       "3  0x79f989da908001a071fc2b4c8d9abb30c04365aa8dc3...  APPROVED  82.552126   \n",
       "\n",
       "   votes  uniqueContributors  \\\n",
       "0      0                   0   \n",
       "1      0                   0   \n",
       "2      0                   0   \n",
       "3     53                  53   \n",
       "\n",
       "                                            metadata  createdAtBlock  \\\n",
       "0  {\"signature\": \"0x6de148a3778a5cbe0d8664476164d...        14930930   \n",
       "1  {\"signature\": \"0xb725515be88d819eb8e8be676f18d...        14930985   \n",
       "2  {\"signature\": \"0x760cd292133844029e25c9d8b4ff5...        15055770   \n",
       "3  {\"signature\": \"0x5cee91b717744c5c25cea497b0744...        18503087   \n",
       "\n",
       "   statusUpdatedAtBlock                                    statusSnapshots  \n",
       "0              14930930  [{'status': 'PENDING', 'statusUpdatedAtBlock':...  \n",
       "1              14930985  [{'status': 'PENDING', 'statusUpdatedAtBlock':...  \n",
       "2              15055770  [{'status': 'PENDING', 'statusUpdatedAtBlock':...  \n",
       "3              18717541  [{'status': 'PENDING', 'statusUpdatedAtBlock':...  "
      ]
     },
     "metadata": {},
     "output_type": "display_data"
    },
    {
     "data": {
      "text/markdown": [
       "## [public_raw_round_contributors.parquet](#file-listing)"
      ],
      "text/plain": [
       "<IPython.core.display.Markdown object>"
      ]
     },
     "metadata": {},
     "output_type": "display_data"
    },
    {
     "data": {
      "text/markdown": [
       "id: string<br>amountUSD: double<br>votes: int64<br>chainId: string<br>roundId: string"
      ],
      "text/plain": [
       "<IPython.core.display.Markdown object>"
      ]
     },
     "metadata": {},
     "output_type": "display_data"
    },
    {
     "data": {
      "text/html": [
       "<div>\n",
       "<style scoped>\n",
       "    .dataframe tbody tr th:only-of-type {\n",
       "        vertical-align: middle;\n",
       "    }\n",
       "\n",
       "    .dataframe tbody tr th {\n",
       "        vertical-align: top;\n",
       "    }\n",
       "\n",
       "    .dataframe thead th {\n",
       "        text-align: right;\n",
       "    }\n",
       "</style>\n",
       "<table border=\"1\" class=\"dataframe\">\n",
       "  <thead>\n",
       "    <tr style=\"text-align: right;\">\n",
       "      <th></th>\n",
       "      <th>id</th>\n",
       "      <th>amountUSD</th>\n",
       "      <th>votes</th>\n",
       "      <th>chainId</th>\n",
       "      <th>roundId</th>\n",
       "    </tr>\n",
       "  </thead>\n",
       "  <tbody>\n",
       "    <tr>\n",
       "      <th>0</th>\n",
       "      <td>0x37e5e6eb36467F98392ebBb35F110FbB8238e6D3</td>\n",
       "      <td>1.138331</td>\n",
       "      <td>5</td>\n",
       "      <td>324</td>\n",
       "      <td>\"0xc85686f394116ddF94dbFa86059e17047232c54f\"</td>\n",
       "    </tr>\n",
       "    <tr>\n",
       "      <th>1</th>\n",
       "      <td>0x4614291bb169905074Da4aFaA39784D175162f79</td>\n",
       "      <td>7.514128</td>\n",
       "      <td>6</td>\n",
       "      <td>324</td>\n",
       "      <td>\"0xc85686f394116ddF94dbFa86059e17047232c54f\"</td>\n",
       "    </tr>\n",
       "    <tr>\n",
       "      <th>2</th>\n",
       "      <td>0x58338E95caEf17861916Ef10daD5fAFE20421005</td>\n",
       "      <td>2.275275</td>\n",
       "      <td>2</td>\n",
       "      <td>324</td>\n",
       "      <td>\"0xc85686f394116ddF94dbFa86059e17047232c54f\"</td>\n",
       "    </tr>\n",
       "    <tr>\n",
       "      <th>3</th>\n",
       "      <td>0x58338E95caEf17861916Ef10daD5fAFE20421005</td>\n",
       "      <td>3.764763</td>\n",
       "      <td>3</td>\n",
       "      <td>324</td>\n",
       "      <td>\"0xC84B29C0c07134Ec019383438f1106960B7E5eF2\"</td>\n",
       "    </tr>\n",
       "  </tbody>\n",
       "</table>\n",
       "</div>"
      ],
      "text/plain": [
       "                                           id  amountUSD  votes chainId  \\\n",
       "0  0x37e5e6eb36467F98392ebBb35F110FbB8238e6D3   1.138331      5     324   \n",
       "1  0x4614291bb169905074Da4aFaA39784D175162f79   7.514128      6     324   \n",
       "2  0x58338E95caEf17861916Ef10daD5fAFE20421005   2.275275      2     324   \n",
       "3  0x58338E95caEf17861916Ef10daD5fAFE20421005   3.764763      3     324   \n",
       "\n",
       "                                        roundId  \n",
       "0  \"0xc85686f394116ddF94dbFa86059e17047232c54f\"  \n",
       "1  \"0xc85686f394116ddF94dbFa86059e17047232c54f\"  \n",
       "2  \"0xc85686f394116ddF94dbFa86059e17047232c54f\"  \n",
       "3  \"0xC84B29C0c07134Ec019383438f1106960B7E5eF2\"  "
      ]
     },
     "metadata": {},
     "output_type": "display_data"
    },
    {
     "data": {
      "text/markdown": [
       "## [public_raw_round_votes.parquet](#file-listing)"
      ],
      "text/plain": [
       "<IPython.core.display.Markdown object>"
      ]
     },
     "metadata": {},
     "output_type": "display_data"
    },
    {
     "data": {
      "text/markdown": [
       "chainId: string<br>roundId: string<br>id: string<br>transaction: string<br>blockNumber: int64<br>projectId: string<br>applicationId: int64<br>voter: string<br>grantAddress: string<br>token: string<br>amount: double<br>amountUSD: double<br>amountRoundToken: double"
      ],
      "text/plain": [
       "<IPython.core.display.Markdown object>"
      ]
     },
     "metadata": {},
     "output_type": "display_data"
    },
    {
     "data": {
      "text/html": [
       "<div>\n",
       "<style scoped>\n",
       "    .dataframe tbody tr th:only-of-type {\n",
       "        vertical-align: middle;\n",
       "    }\n",
       "\n",
       "    .dataframe tbody tr th {\n",
       "        vertical-align: top;\n",
       "    }\n",
       "\n",
       "    .dataframe thead th {\n",
       "        text-align: right;\n",
       "    }\n",
       "</style>\n",
       "<table border=\"1\" class=\"dataframe\">\n",
       "  <thead>\n",
       "    <tr style=\"text-align: right;\">\n",
       "      <th></th>\n",
       "      <th>chainId</th>\n",
       "      <th>roundId</th>\n",
       "      <th>id</th>\n",
       "      <th>transaction</th>\n",
       "      <th>blockNumber</th>\n",
       "      <th>projectId</th>\n",
       "      <th>applicationId</th>\n",
       "      <th>voter</th>\n",
       "      <th>grantAddress</th>\n",
       "      <th>token</th>\n",
       "      <th>amount</th>\n",
       "      <th>amountUSD</th>\n",
       "      <th>amountRoundToken</th>\n",
       "    </tr>\n",
       "  </thead>\n",
       "  <tbody>\n",
       "    <tr>\n",
       "      <th>0</th>\n",
       "      <td>250</td>\n",
       "      <td>0x19D84682c0FD83DF5920e29987221fA71f4EA75B</td>\n",
       "      <td>0x39e17a8935624409da1f8932570c7d693a6328a6a42a...</td>\n",
       "      <td>0x31f54e74e1cc53ccea26462810ed32e3701901c8f64f...</td>\n",
       "      <td>67413218</td>\n",
       "      <td>0xd2d10ca4b6b87fb6c0052ca3e0748236363d9e961d70...</td>\n",
       "      <td>2</td>\n",
       "      <td>0xABF28f8D9adFB2255F4a059e37d3BcE9104969dB</td>\n",
       "      <td>0x37e5e6eb36467F98392ebBb35F110FbB8238e6D3</td>\n",
       "      <td>0x83791638da5EB2fAa432aff1c65fbA47c5D29510</td>\n",
       "      <td>3.000000e+18</td>\n",
       "      <td>2.999475</td>\n",
       "      <td>1.469453e+19</td>\n",
       "    </tr>\n",
       "    <tr>\n",
       "      <th>1</th>\n",
       "      <td>250</td>\n",
       "      <td>0x19D84682c0FD83DF5920e29987221fA71f4EA75B</td>\n",
       "      <td>0xddc53d22fbf190f569b0eef91196ef00e5bda0ae4a80...</td>\n",
       "      <td>0x31f54e74e1cc53ccea26462810ed32e3701901c8f64f...</td>\n",
       "      <td>67413218</td>\n",
       "      <td>0x24472c9a83946f8694084da07f9ae3087499b299e7a2...</td>\n",
       "      <td>1</td>\n",
       "      <td>0xABF28f8D9adFB2255F4a059e37d3BcE9104969dB</td>\n",
       "      <td>0x37e5e6eb36467F98392ebBb35F110FbB8238e6D3</td>\n",
       "      <td>0x83791638da5EB2fAa432aff1c65fbA47c5D29510</td>\n",
       "      <td>1.000000e+19</td>\n",
       "      <td>9.998252</td>\n",
       "      <td>4.898177e+19</td>\n",
       "    </tr>\n",
       "    <tr>\n",
       "      <th>2</th>\n",
       "      <td>250</td>\n",
       "      <td>0x19D84682c0FD83DF5920e29987221fA71f4EA75B</td>\n",
       "      <td>0x94951ac2dcab4019adf38e55a77238784a1cf725b653...</td>\n",
       "      <td>0x31f54e74e1cc53ccea26462810ed32e3701901c8f64f...</td>\n",
       "      <td>67413218</td>\n",
       "      <td>0x4821b33f7e2079a82acdbcc452a13a8d59cc33b6981b...</td>\n",
       "      <td>0</td>\n",
       "      <td>0xABF28f8D9adFB2255F4a059e37d3BcE9104969dB</td>\n",
       "      <td>0x37e5e6eb36467F98392ebBb35F110FbB8238e6D3</td>\n",
       "      <td>0x83791638da5EB2fAa432aff1c65fbA47c5D29510</td>\n",
       "      <td>2.000000e+19</td>\n",
       "      <td>19.996503</td>\n",
       "      <td>9.796354e+19</td>\n",
       "    </tr>\n",
       "    <tr>\n",
       "      <th>3</th>\n",
       "      <td>250</td>\n",
       "      <td>0x19D84682c0FD83DF5920e29987221fA71f4EA75B</td>\n",
       "      <td>0x98ab19ff5a369c4a3d2ef8ae9fc546179b9135ca7012...</td>\n",
       "      <td>0x1285af31632b737edc3a2681840f6a454080f37fe93f...</td>\n",
       "      <td>67413524</td>\n",
       "      <td>0x4821b33f7e2079a82acdbcc452a13a8d59cc33b6981b...</td>\n",
       "      <td>0</td>\n",
       "      <td>0x37e5e6eb36467F98392ebBb35F110FbB8238e6D3</td>\n",
       "      <td>0x37e5e6eb36467F98392ebBb35F110FbB8238e6D3</td>\n",
       "      <td>0x83791638da5EB2fAa432aff1c65fbA47c5D29510</td>\n",
       "      <td>5.000000e+18</td>\n",
       "      <td>4.999126</td>\n",
       "      <td>2.449089e+19</td>\n",
       "    </tr>\n",
       "  </tbody>\n",
       "</table>\n",
       "</div>"
      ],
      "text/plain": [
       "  chainId                                     roundId  \\\n",
       "0     250  0x19D84682c0FD83DF5920e29987221fA71f4EA75B   \n",
       "1     250  0x19D84682c0FD83DF5920e29987221fA71f4EA75B   \n",
       "2     250  0x19D84682c0FD83DF5920e29987221fA71f4EA75B   \n",
       "3     250  0x19D84682c0FD83DF5920e29987221fA71f4EA75B   \n",
       "\n",
       "                                                  id  \\\n",
       "0  0x39e17a8935624409da1f8932570c7d693a6328a6a42a...   \n",
       "1  0xddc53d22fbf190f569b0eef91196ef00e5bda0ae4a80...   \n",
       "2  0x94951ac2dcab4019adf38e55a77238784a1cf725b653...   \n",
       "3  0x98ab19ff5a369c4a3d2ef8ae9fc546179b9135ca7012...   \n",
       "\n",
       "                                         transaction  blockNumber  \\\n",
       "0  0x31f54e74e1cc53ccea26462810ed32e3701901c8f64f...     67413218   \n",
       "1  0x31f54e74e1cc53ccea26462810ed32e3701901c8f64f...     67413218   \n",
       "2  0x31f54e74e1cc53ccea26462810ed32e3701901c8f64f...     67413218   \n",
       "3  0x1285af31632b737edc3a2681840f6a454080f37fe93f...     67413524   \n",
       "\n",
       "                                           projectId  applicationId  \\\n",
       "0  0xd2d10ca4b6b87fb6c0052ca3e0748236363d9e961d70...              2   \n",
       "1  0x24472c9a83946f8694084da07f9ae3087499b299e7a2...              1   \n",
       "2  0x4821b33f7e2079a82acdbcc452a13a8d59cc33b6981b...              0   \n",
       "3  0x4821b33f7e2079a82acdbcc452a13a8d59cc33b6981b...              0   \n",
       "\n",
       "                                        voter  \\\n",
       "0  0xABF28f8D9adFB2255F4a059e37d3BcE9104969dB   \n",
       "1  0xABF28f8D9adFB2255F4a059e37d3BcE9104969dB   \n",
       "2  0xABF28f8D9adFB2255F4a059e37d3BcE9104969dB   \n",
       "3  0x37e5e6eb36467F98392ebBb35F110FbB8238e6D3   \n",
       "\n",
       "                                 grantAddress  \\\n",
       "0  0x37e5e6eb36467F98392ebBb35F110FbB8238e6D3   \n",
       "1  0x37e5e6eb36467F98392ebBb35F110FbB8238e6D3   \n",
       "2  0x37e5e6eb36467F98392ebBb35F110FbB8238e6D3   \n",
       "3  0x37e5e6eb36467F98392ebBb35F110FbB8238e6D3   \n",
       "\n",
       "                                        token        amount  amountUSD  \\\n",
       "0  0x83791638da5EB2fAa432aff1c65fbA47c5D29510  3.000000e+18   2.999475   \n",
       "1  0x83791638da5EB2fAa432aff1c65fbA47c5D29510  1.000000e+19   9.998252   \n",
       "2  0x83791638da5EB2fAa432aff1c65fbA47c5D29510  2.000000e+19  19.996503   \n",
       "3  0x83791638da5EB2fAa432aff1c65fbA47c5D29510  5.000000e+18   4.999126   \n",
       "\n",
       "   amountRoundToken  \n",
       "0      1.469453e+19  \n",
       "1      4.898177e+19  \n",
       "2      9.796354e+19  \n",
       "3      2.449089e+19  "
      ]
     },
     "metadata": {},
     "output_type": "display_data"
    },
    {
     "data": {
      "text/markdown": [
       "## [public_raw_rounds.parquet](#file-listing)"
      ],
      "text/plain": [
       "<IPython.core.display.Markdown object>"
      ]
     },
     "metadata": {},
     "output_type": "display_data"
    },
    {
     "data": {
      "text/markdown": [
       "id: string<br>amountUSD: double<br>votes: int64<br>token: string<br>matchAmount: double<br>matchAmountUSD: double<br>uniqueContributors: int64<br>applicationMetaPtr: string<br>applicationMetadata: string<br>metaPtr: string<br>metadata: string<br>applicationsStartTime: int64<br>applicationsEndTime: double<br>roundStartTime: int64<br>roundEndTime: double<br>createdAtBlock: int64<br>updatedAtBlock: int64<br>chainId: string"
      ],
      "text/plain": [
       "<IPython.core.display.Markdown object>"
      ]
     },
     "metadata": {},
     "output_type": "display_data"
    },
    {
     "data": {
      "text/html": [
       "<div>\n",
       "<style scoped>\n",
       "    .dataframe tbody tr th:only-of-type {\n",
       "        vertical-align: middle;\n",
       "    }\n",
       "\n",
       "    .dataframe tbody tr th {\n",
       "        vertical-align: top;\n",
       "    }\n",
       "\n",
       "    .dataframe thead th {\n",
       "        text-align: right;\n",
       "    }\n",
       "</style>\n",
       "<table border=\"1\" class=\"dataframe\">\n",
       "  <thead>\n",
       "    <tr style=\"text-align: right;\">\n",
       "      <th></th>\n",
       "      <th>id</th>\n",
       "      <th>amountUSD</th>\n",
       "      <th>votes</th>\n",
       "      <th>token</th>\n",
       "      <th>matchAmount</th>\n",
       "      <th>matchAmountUSD</th>\n",
       "      <th>uniqueContributors</th>\n",
       "      <th>applicationMetaPtr</th>\n",
       "      <th>applicationMetadata</th>\n",
       "      <th>metaPtr</th>\n",
       "      <th>metadata</th>\n",
       "      <th>applicationsStartTime</th>\n",
       "      <th>applicationsEndTime</th>\n",
       "      <th>roundStartTime</th>\n",
       "      <th>roundEndTime</th>\n",
       "      <th>createdAtBlock</th>\n",
       "      <th>updatedAtBlock</th>\n",
       "      <th>chainId</th>\n",
       "    </tr>\n",
       "  </thead>\n",
       "  <tbody>\n",
       "    <tr>\n",
       "      <th>0</th>\n",
       "      <td>0xf16C7C3e7bb378c716F2b349a999D8ce56F3cFb5</td>\n",
       "      <td>0.010547</td>\n",
       "      <td>3</td>\n",
       "      <td>0x0000000000000000000000000000000000000000</td>\n",
       "      <td>1.000000e+18</td>\n",
       "      <td>0.525015</td>\n",
       "      <td>2</td>\n",
       "      <td>bafkreid4qdvpgogw7pec5m57uvdurkvdu5z7vmtuczuoa...</td>\n",
       "      <td>{'lastUpdatedOn': 1695307508483, 'applicationS...</td>\n",
       "      <td>bafkreid3oppvwhxli3sqkf3br2b3k4rwa74uczwl4v2ii...</td>\n",
       "      <td>{\"feesPercentage\": 0, \"feesAddress\": \"\", \"name...</td>\n",
       "      <td>1695307560</td>\n",
       "      <td>1.695341e+09</td>\n",
       "      <td>1695307560</td>\n",
       "      <td>1.695341e+09</td>\n",
       "      <td>47813168</td>\n",
       "      <td>47813168</td>\n",
       "      <td>137</td>\n",
       "    </tr>\n",
       "    <tr>\n",
       "      <th>1</th>\n",
       "      <td>0xb410680b922e91f2eA4159331FFEAAAdb217F246</td>\n",
       "      <td>0.000000</td>\n",
       "      <td>0</td>\n",
       "      <td>0x0000000000000000000000000000000000000000</td>\n",
       "      <td>1.000000e+18</td>\n",
       "      <td>0.526396</td>\n",
       "      <td>0</td>\n",
       "      <td>bafkreie2uqqanbeiuabkrzpghjqkjlgimjbm5w3t5yver...</td>\n",
       "      <td>{'lastUpdatedOn': 1695318545342, 'applicationS...</td>\n",
       "      <td>bafkreifaysglowdjlhivjv5utus766tos4me3zroygbcy...</td>\n",
       "      <td>{\"feesPercentage\": 0, \"feesAddress\": \"\", \"name...</td>\n",
       "      <td>1695319200</td>\n",
       "      <td>1.696032e+09</td>\n",
       "      <td>1695319200</td>\n",
       "      <td>1.696032e+09</td>\n",
       "      <td>47818260</td>\n",
       "      <td>47818260</td>\n",
       "      <td>137</td>\n",
       "    </tr>\n",
       "    <tr>\n",
       "      <th>2</th>\n",
       "      <td>0x353d3485Fb5b560BcB79780CEd5Ddd26331040a9</td>\n",
       "      <td>0.000000</td>\n",
       "      <td>0</td>\n",
       "      <td>0x0000000000000000000000000000000000000000</td>\n",
       "      <td>3.000000e+18</td>\n",
       "      <td>1.575025</td>\n",
       "      <td>0</td>\n",
       "      <td>bafkreifiyr7moy45suwlu7wvpa3ftdxhsgaxsbw2m3grx...</td>\n",
       "      <td>{'lastUpdatedOn': 1695328536702, 'applicationS...</td>\n",
       "      <td>bafkreifbwivdn25q7tnkecu6wt6nzutndyb25w5zpbfre...</td>\n",
       "      <td>{\"feesPercentage\": 0, \"feesAddress\": \"\", \"name...</td>\n",
       "      <td>1695589200</td>\n",
       "      <td>1.695686e+09</td>\n",
       "      <td>1695600000</td>\n",
       "      <td>1.695686e+09</td>\n",
       "      <td>47822940</td>\n",
       "      <td>47822940</td>\n",
       "      <td>137</td>\n",
       "    </tr>\n",
       "    <tr>\n",
       "      <th>3</th>\n",
       "      <td>0xBE245931C95d9B005ebf613090D932D10d3d5249</td>\n",
       "      <td>0.000000</td>\n",
       "      <td>0</td>\n",
       "      <td>0x0000000000000000000000000000000000000000</td>\n",
       "      <td>5.000000e+23</td>\n",
       "      <td>260098.220000</td>\n",
       "      <td>0</td>\n",
       "      <td>bafkreih37fpyqtpxrigid7ceobwrknd5wo3zfvwi4cqrs...</td>\n",
       "      <td>{'lastUpdatedOn': 1695486571265, 'applicationS...</td>\n",
       "      <td>bafkreidetdecljkkzkpkwybvhjflne7g6eugotiix5cre...</td>\n",
       "      <td>{\"feesPercentage\": 0, \"feesAddress\": \"\", \"name...</td>\n",
       "      <td>1695661200</td>\n",
       "      <td>1.698710e+09</td>\n",
       "      <td>1695859200</td>\n",
       "      <td>1.698710e+09</td>\n",
       "      <td>47895093</td>\n",
       "      <td>47895093</td>\n",
       "      <td>137</td>\n",
       "    </tr>\n",
       "  </tbody>\n",
       "</table>\n",
       "</div>"
      ],
      "text/plain": [
       "                                           id  amountUSD  votes  \\\n",
       "0  0xf16C7C3e7bb378c716F2b349a999D8ce56F3cFb5   0.010547      3   \n",
       "1  0xb410680b922e91f2eA4159331FFEAAAdb217F246   0.000000      0   \n",
       "2  0x353d3485Fb5b560BcB79780CEd5Ddd26331040a9   0.000000      0   \n",
       "3  0xBE245931C95d9B005ebf613090D932D10d3d5249   0.000000      0   \n",
       "\n",
       "                                        token   matchAmount  matchAmountUSD  \\\n",
       "0  0x0000000000000000000000000000000000000000  1.000000e+18        0.525015   \n",
       "1  0x0000000000000000000000000000000000000000  1.000000e+18        0.526396   \n",
       "2  0x0000000000000000000000000000000000000000  3.000000e+18        1.575025   \n",
       "3  0x0000000000000000000000000000000000000000  5.000000e+23   260098.220000   \n",
       "\n",
       "   uniqueContributors                                 applicationMetaPtr  \\\n",
       "0                   2  bafkreid4qdvpgogw7pec5m57uvdurkvdu5z7vmtuczuoa...   \n",
       "1                   0  bafkreie2uqqanbeiuabkrzpghjqkjlgimjbm5w3t5yver...   \n",
       "2                   0  bafkreifiyr7moy45suwlu7wvpa3ftdxhsgaxsbw2m3grx...   \n",
       "3                   0  bafkreih37fpyqtpxrigid7ceobwrknd5wo3zfvwi4cqrs...   \n",
       "\n",
       "                                 applicationMetadata  \\\n",
       "0  {'lastUpdatedOn': 1695307508483, 'applicationS...   \n",
       "1  {'lastUpdatedOn': 1695318545342, 'applicationS...   \n",
       "2  {'lastUpdatedOn': 1695328536702, 'applicationS...   \n",
       "3  {'lastUpdatedOn': 1695486571265, 'applicationS...   \n",
       "\n",
       "                                             metaPtr  \\\n",
       "0  bafkreid3oppvwhxli3sqkf3br2b3k4rwa74uczwl4v2ii...   \n",
       "1  bafkreifaysglowdjlhivjv5utus766tos4me3zroygbcy...   \n",
       "2  bafkreifbwivdn25q7tnkecu6wt6nzutndyb25w5zpbfre...   \n",
       "3  bafkreidetdecljkkzkpkwybvhjflne7g6eugotiix5cre...   \n",
       "\n",
       "                                            metadata  applicationsStartTime  \\\n",
       "0  {\"feesPercentage\": 0, \"feesAddress\": \"\", \"name...             1695307560   \n",
       "1  {\"feesPercentage\": 0, \"feesAddress\": \"\", \"name...             1695319200   \n",
       "2  {\"feesPercentage\": 0, \"feesAddress\": \"\", \"name...             1695589200   \n",
       "3  {\"feesPercentage\": 0, \"feesAddress\": \"\", \"name...             1695661200   \n",
       "\n",
       "   applicationsEndTime  roundStartTime  roundEndTime  createdAtBlock  \\\n",
       "0         1.695341e+09      1695307560  1.695341e+09        47813168   \n",
       "1         1.696032e+09      1695319200  1.696032e+09        47818260   \n",
       "2         1.695686e+09      1695600000  1.695686e+09        47822940   \n",
       "3         1.698710e+09      1695859200  1.698710e+09        47895093   \n",
       "\n",
       "   updatedAtBlock chainId  \n",
       "0        47813168     137  \n",
       "1        47818260     137  \n",
       "2        47822940     137  \n",
       "3        47895093     137  "
      ]
     },
     "metadata": {},
     "output_type": "display_data"
    }
   ],
   "source": [
    "# | echo: false\n",
    "# | output: asis\n",
    "print_file_sections(raw_files, with_schema=True)"
   ]
  }
 ],
 "metadata": {
  "kernelspec": {
   "display_name": "Python 3",
   "language": "python",
   "name": "python3"
  },
  "language_info": {
   "codemirror_mode": {
    "name": "ipython",
    "version": 3
   },
   "file_extension": ".py",
   "mimetype": "text/x-python",
   "name": "python",
   "nbconvert_exporter": "python",
   "pygments_lexer": "ipython3",
   "version": "3.11.8"
  }
 },
 "nbformat": 4,
 "nbformat_minor": 2
}
